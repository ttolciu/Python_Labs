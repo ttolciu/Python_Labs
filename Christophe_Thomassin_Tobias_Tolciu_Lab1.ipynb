{
 "cells": [
  {
   "cell_type": "markdown",
   "id": "c6377ad5",
   "metadata": {},
   "source": [
    "## Import of standard libraries"
   ]
  },
  {
   "cell_type": "code",
   "execution_count": 1,
   "id": "c4e5f595",
   "metadata": {},
   "outputs": [],
   "source": [
    "import math\n",
    "import numpy as np\n",
    "from sklearn import linear_model\n",
    "from os import mkdir\n",
    "import matplotlib.pyplot as plt \n",
    "import string\n",
    "import time\n",
    "import timeit\n",
    "import random"
   ]
  },
  {
   "cell_type": "markdown",
   "id": "1b390053",
   "metadata": {},
   "source": [
    "## 1. String"
   ]
  },
  {
   "cell_type": "markdown",
   "id": "52b70028",
   "metadata": {},
   "source": [
    "1)  From a string containing all the alphabet letters, generate the string cfilorux using slicing. Do the same for the strings vxz and zxvt. Don’t type the alphabet yourself, use the string module."
   ]
  },
  {
   "cell_type": "code",
   "execution_count": 2,
   "id": "afe2f023",
   "metadata": {},
   "outputs": [
    {
     "name": "stdout",
     "output_type": "stream",
     "text": [
      "The first string is cfilorux, the second string is vxz, the third string is zxvt.\n"
     ]
    }
   ],
   "source": [
    "# we use string slicing to generate the desired strings\n",
    "# the arguments are [start:end:increment]\n",
    "\n",
    "alphabet_string = string.ascii_lowercase # string of all alphabet letters\n",
    "\n",
    "first_string = alphabet_string[2:26:3] # creates 'cfilorux'\n",
    "\n",
    "second_string = alphabet_string[21:26:2] # creates 'vxz'\n",
    "\n",
    "third_string = alphabet_string[26:18:-2] # create 'zxvt', \"-2\" reverses\n",
    "# the order of list elements\n",
    "\n",
    "print(\n",
    "    f\"The first string is {first_string},\" \n",
    "    f\" the second string is {second_string},\" \n",
    "    f\" the third string is {third_string}.\"\n",
    ")"
   ]
  },
  {
   "cell_type": "markdown",
   "id": "1c4d6ea3",
   "metadata": {},
   "source": [
    "2) Declare a string variable \" XHEC DataScience for Business \". Make it all lowercase. Remove spaces at the beginning and at the end, but not between words. Replace all e’s with E’s."
   ]
  },
  {
   "cell_type": "code",
   "execution_count": 3,
   "id": "b2d73526",
   "metadata": {},
   "outputs": [
    {
     "name": "stdout",
     "output_type": "stream",
     "text": [
      "The resulting string is xhEc datasciEncE for businEss.\n"
     ]
    }
   ],
   "source": [
    "raw_string = \" XHEC DataScience for Business \"\n",
    "\n",
    "clean_string = (\n",
    "    raw_string.lower()\n",
    "    .rstrip().lstrip() # strip trailing and leading spaces\n",
    "    .replace(\"e\",\"E\")\n",
    ")\n",
    "\n",
    "print(f\"The resulting string is {clean_string}.\")"
   ]
  },
  {
   "cell_type": "markdown",
   "id": "7bfceac1",
   "metadata": {},
   "source": [
    "3) Display the number π with 9 decimal digits. Don’t cast a number to string, and don’t use round : use Python’s string formatting instead (either the format method, either the % operator)."
   ]
  },
  {
   "cell_type": "code",
   "execution_count": 4,
   "id": "bcacbe0f",
   "metadata": {},
   "outputs": [
    {
     "name": "stdout",
     "output_type": "stream",
     "text": [
      "This is the number pi: 3.141592654\n"
     ]
    }
   ],
   "source": [
    "pi = \"This is the number pi: {:.9f}\" # create string with placeholder \n",
    "                                     # for float with 9 decimals\n",
    "print(pi.format(math.pi)) # fill placeholder with number pi "
   ]
  },
  {
   "cell_type": "markdown",
   "id": "f308c551",
   "metadata": {},
   "source": [
    "4) Count the number of occurrences of each character in the string s=\"HelLo WorLd!!\". (in real life, you should use a collections.Counter; here, you are asked to code the method yourself). Output a dictionary that to each character associates the number of occurrences in this string. In this question, we consider that lower and upper case characters are the same (e.g. your dictionary should not have both a L and a l entry)."
   ]
  },
  {
   "cell_type": "code",
   "execution_count": 5,
   "id": "fe9d271b",
   "metadata": {},
   "outputs": [
    {
     "name": "stdout",
     "output_type": "stream",
     "text": [
      "The desired dictionary is {'h': 1, 'e': 1, 'l': 3, 'o': 2, ' ': 1, 'w': 1, 'r': 1, 'd': 1, '!': 2}.\n"
     ]
    }
   ],
   "source": [
    "input_string = \"HelLo WorLd!!\".lower() # lowercase to count unique letters\n",
    "\n",
    "counter_dict = {} # create empty dict\n",
    "\n",
    "for char in input_string:\n",
    "    if char not in counter_dict.keys(): # checks if character is an existing key\n",
    "        counter_dict[char] = 1 # if false, a new key is created with value 1\n",
    "   \n",
    "    else:\n",
    "        counter_dict[char] += 1 # if true, the value is incremented by 1\n",
    "        \n",
    "print(f\"The desired dictionary is {counter_dict}.\")\n",
    "\n",
    "# note: we willingly did not use .strip() as we\n",
    "# want to count spaces as characters as well. "
   ]
  },
  {
   "cell_type": "markdown",
   "id": "01cf1b97",
   "metadata": {},
   "source": [
    "## Fast computations with numpy ; basic plots"
   ]
  },
  {
   "cell_type": "markdown",
   "id": "721ec809",
   "metadata": {},
   "source": [
    "5) Compute 0.1 + 100 - 100. Using ==, check if it is equal to 0.1. Comment. Compare the two floating point numbers again with an appropriate numpy function."
   ]
  },
  {
   "cell_type": "code",
   "execution_count": 6,
   "id": "5e03eb5d",
   "metadata": {},
   "outputs": [
    {
     "name": "stdout",
     "output_type": "stream",
     "text": [
      "False\n",
      "True\n",
      "With ordinary computation 0.1 + 100 - 100 = 0.09999999999999432 == 0.1 is False. Using an appropriate numpy function we can show that 0.1 + 100 - 100 = 0.10000000149011612 == 0.1 is True.\n"
     ]
    }
   ],
   "source": [
    "result_number1 = 0.1 + 100 - 100\n",
    "\n",
    "comparison1 = (result_number1 == 0.1)\n",
    "print(comparison1)                    \n",
    "\n",
    "# value of the comparison is FALSE since python is calculating with\n",
    "# 2 bit numbers and thus result_number1 is not exactly 0.1 (0.9999...)\n",
    "\n",
    "result_number2 = np.float32(0.1 + 100 - 100)\n",
    "comparison2 = (result_number2 == np.float32(0.1))\n",
    "print(comparison2)\n",
    "\n",
    "# the value of comparison2 is TRUE since np.float32() is calculating \n",
    "# with 32bit numbers and can thus represent the result 0.1.\n",
    "\n",
    "print(\n",
    "    f\"With ordinary computation 0.1 + 100 - 100 = {result_number1}\"\n",
    "    f\" == 0.1 is {comparison1}. Using an appropriate numpy function\" \n",
    "    f\" we can show that 0.1 + 100 - 100 = {result_number2}\"\n",
    "    f\" == 0.1 is {comparison2}.\"\n",
    ")"
   ]
  },
  {
   "cell_type": "markdown",
   "id": "a2b188ef",
   "metadata": {},
   "source": [
    "6) Create a list (resp. an array) containing all square numbers from 1, 4, ... to 121, using a for loop (resp. only numpy)."
   ]
  },
  {
   "cell_type": "code",
   "execution_count": 7,
   "id": "3d771490",
   "metadata": {},
   "outputs": [
    {
     "name": "stdout",
     "output_type": "stream",
     "text": [
      "A list of all square numbers [1, 4, 9, 16, 25, 36, 49, 64, 81, 100, 121], an array of all square numbers [  1   4   9  16  25  36  49  64  81 100 121]\n"
     ]
    }
   ],
   "source": [
    "sq_numbers1 = [] # empty list\n",
    "\n",
    "for i in range(1,12,1): # range of integers 1 to 11\n",
    "    sq_numbers1.append(i ** 2)\n",
    "\n",
    "sq_numbers2 = np.square(np.arange(1,12,1)) # squared array of integers 1 to 11\n",
    "\n",
    "print(f\"A list of all square numbers {sq_numbers1},\" \n",
    "      f\" an array of all square numbers {sq_numbers2}\"\n",
    ")"
   ]
  },
  {
   "cell_type": "markdown",
   "id": "d2048b3e",
   "metadata": {},
   "source": [
    "7) Create an array containing integers from 2 to 14 by step of 3 (2, 5, 8, ...). Create an array with 15 equispaced valued from 0 to 1 included. Use numpy built-in functions."
   ]
  },
  {
   "cell_type": "code",
   "execution_count": 8,
   "id": "fabe0e65",
   "metadata": {},
   "outputs": [
    {
     "name": "stdout",
     "output_type": "stream",
     "text": [
      "[ 2  5  8 11 14] [0.         0.07142857 0.14285714 0.21428571 0.28571429 0.35714286\n",
      " 0.42857143 0.5        0.57142857 0.64285714 0.71428571 0.78571429\n",
      " 0.85714286 0.92857143 1.        ]\n"
     ]
    }
   ],
   "source": [
    "integer_list1 = np.arange(2,15,3)\n",
    "\n",
    "integer_list2 = np.linspace(0,1,15)\n",
    "\n",
    "print(integer_list1, integer_list2)"
   ]
  },
  {
   "cell_type": "markdown",
   "id": "26e228d9",
   "metadata": {},
   "source": [
    "8) Compute ... (approximate infinity by a large number n) using a for loop. Propose a version without loop, using only numpy (see numpy). Measure the time taken by both versions using time.time(). You should display the results with a relevant number of significant digits, e.g. not 0.002487976589749873 seconds. Use the ipython magic %timeit again to measure time of one ver- sion. Why is it better than time.time ?"
   ]
  },
  {
   "cell_type": "code",
   "execution_count": 9,
   "id": "09c69979",
   "metadata": {
    "scrolled": false
   },
   "outputs": [
    {
     "name": "stdout",
     "output_type": "stream",
     "text": [
      "11.5 ms ± 1.04 ms per loop (mean ± std. dev. of 7 runs, 100 loops each)\n",
      "The given series can be solved in Matlabusing two different approaches: 1. using python the result is 3.1415919 and the computation takes 2.4891043 seconds 2. using numpy the result is 3.1415919 and the computation takes x seconds.\n"
     ]
    }
   ],
   "source": [
    "n = 1_000_000\n",
    "\n",
    "# version for loop\n",
    "\n",
    "t0 = time.time() # save time at start of computation\n",
    "\n",
    "calc_forloop = 2 # initiate with two to multiply series by two \n",
    "\n",
    "for i in range(1,n,1):\n",
    "    calc_forloop *= (\n",
    "        4 * np.square(i)) / (4 * np.square(i) - 1\n",
    "    ) # multiply result \n",
    "      # with result of previous loop iteration\n",
    "    \n",
    "t1 = time.time() # save time at end of computation \n",
    "\n",
    "time1 = t1 - t0 # rounding at display later\n",
    "\n",
    "\n",
    "# Version numpy\n",
    "\n",
    "%timeit 2 * np.prod((4 * np.square(np.arange(1,n,1))) / (4 * np.square(np.arange(1,n,1)) - 1))\n",
    "# this statement cannot be split in two lines\n",
    "# because %timeit works on a per line basis\n",
    "\n",
    "calc_np = (\n",
    "    2 * np.prod((4 * np.square(np.arange(1,n,1))) \n",
    "    / (4 * np.square(np.arange(1,n,1)) - 1))\n",
    ")\n",
    "\n",
    "# this still needs formatting\n",
    "\n",
    "print(\n",
    "    f\"The given series can be solved in Matlab\"\n",
    "    f\"using two different approaches: \"\n",
    "    f\"1. using python the result is {round(calc_forloop,7)}\" \n",
    "    f\" and the computation takes {round(time1,7)} seconds \"\n",
    "    f\"2. using numpy the result is {round(calc_np,7)}\" \n",
    "    f\" and the computation takes x seconds.\"\n",
    ") \n",
    "\n",
    "# The reason why the approach using numpy is much faster is that\n",
    "# it runs the code statement 1 million times \n",
    "# (that is the default value) and it will return you the minimum \n",
    "# time taken. Furthermore the method uses the \n",
    "# accurate time of your operating system."
   ]
  },
  {
   "cell_type": "markdown",
   "id": "6f8e9dbb",
   "metadata": {},
   "source": [
    "9) (row and column vectors, aka numpy only knows 1D arrays) Compute the dot product of np.arange(5) and np.ones(5). What is the shape of np.arange(5) ? How many dimensions does this array have? What is the shape of its transpose (use .T)? What does transposing 1D arrays do?"
   ]
  },
  {
   "cell_type": "code",
   "execution_count": 10,
   "id": "bba4976d",
   "metadata": {},
   "outputs": [
    {
     "name": "stdout",
     "output_type": "stream",
     "text": [
      "The dot product of [0 1 2 3 4] and [1. 1. 1. 1. 1.] is 10.0. np.arange(5) = ([0 1 2 3 4]) has the shape (5,), and its transpose also has the shape (5,).\n"
     ]
    }
   ],
   "source": [
    "dot_product = np.dot(np.arange(5), np.ones(5))\n",
    "\n",
    "arange_shape = np.arange(5).shape\n",
    "\n",
    "arangeT_shape = np.arange(5).T.shape\n",
    "                                  \n",
    "print(\n",
    "    f\"The dot product of {np.arange(5)} and\"\n",
    "    f\" {np.ones(5)} is {dot_product}.\"\n",
    "    f\" np.arange(5) = ({np.arange(5)}) has the\" \n",
    "    f\" shape {arange_shape}, and its transpose\"\n",
    "    f\" also has the shape {arangeT_shape}.\"\n",
    ")\n",
    "\n",
    "# The transpose of a 1D array is still a 1D array\n",
    "# Thus, np.arange(5).T is still a (5,) array"
   ]
  },
  {
   "cell_type": "markdown",
   "id": "c884ca64",
   "metadata": {},
   "source": [
    "10) What does reshape do in M = np.arange(12).reshape(2, 6) ? What does M[:, ::3] do ? What happens when you do np.arange(3) * np.arange(4)[:, np.newaxis] (this powerful tool is known as broadcasting)"
   ]
  },
  {
   "cell_type": "code",
   "execution_count": 11,
   "id": "9ee9a57c",
   "metadata": {},
   "outputs": [
    {
     "name": "stdout",
     "output_type": "stream",
     "text": [
      "[[ 0  1  2  3  4  5]\n",
      " [ 6  7  8  9 10 11]]\n",
      "[[0 3]\n",
      " [6 9]]\n",
      "[[0 0 0]\n",
      " [0 1 2]\n",
      " [0 2 4]\n",
      " [0 3 6]]\n"
     ]
    }
   ],
   "source": [
    "M = np.arange(12).reshape(2, 6) # reshape() redistributes the \n",
    "                                # elements of a (12,1) array into \n",
    "                                # a (2,6) matrix.\n",
    "print(M)\n",
    "\n",
    "M_transformed = M[:, ::3] # Matrix slicing - M. ':' keeps all rows\n",
    "                          # ' ::3' keeps every third column\n",
    "print(M_transformed)\n",
    "\n",
    "M_broadcasted = np.arange(3) * np.arange(4)[:, np.newaxis]\n",
    "# Broadcasting: np.arange(4) becomes a [4,1] array\n",
    "# np.arange(3) expands to 4 rows while \n",
    "# np.arange(4) expands to 3 columns\n",
    "# result is two 4x3 matrices compatible for computation\n",
    "\n",
    "print(M_broadcasted)"
   ]
  },
  {
   "cell_type": "markdown",
   "id": "1ae3ab00",
   "metadata": {},
   "source": [
    "11) Create a random matrix M (5,6) with coefficients taken uniformly (and independently) in [-1,1]. Substract to each even column of M (say M[:, 0] is even), twice the value of the following (uneven) column."
   ]
  },
  {
   "cell_type": "code",
   "execution_count": 12,
   "id": "c9bad49f",
   "metadata": {},
   "outputs": [
    {
     "name": "stdout",
     "output_type": "stream",
     "text": [
      "[[-0.15652536 -0.53806237  0.25483969  0.47397726 -0.52188238  0.93423028]\n",
      " [ 0.316674   -0.6912884   0.80080121  0.80785284 -0.07381983 -0.14793698]\n",
      " [ 0.80221066 -0.80656293  0.70168418  0.32985055 -0.59935232 -0.70154663]\n",
      " [ 0.10701754  0.05276775  0.18592161 -0.12140144 -0.03755355 -0.88899113]\n",
      " [ 0.70524964  0.40978946 -0.18687156  0.98845851  0.78355838 -0.50160905]]\n",
      "[[ 9.19599370e-01 -5.38062365e-01 -6.93114837e-01  4.73977262e-01\n",
      "  -2.39034293e+00  9.34230275e-01]\n",
      " [ 1.69925081e+00 -6.91288402e-01 -8.14904482e-01  8.07852845e-01\n",
      "   2.22054127e-01 -1.47936981e-01]\n",
      " [ 2.41533653e+00 -8.06562935e-01  4.19830788e-02  3.29850548e-01\n",
      "   8.03740933e-01 -7.01546628e-01]\n",
      " [ 1.48204163e-03  5.27677500e-02  4.28724499e-01 -1.21401442e-01\n",
      "   1.74042871e+00 -8.88991132e-01]\n",
      " [-1.14329287e-01  4.09789464e-01 -2.16378857e+00  9.88458508e-01\n",
      "   1.78677649e+00 -5.01609054e-01]]\n"
     ]
    }
   ],
   "source": [
    "matrix_random = np.random.uniform(low=-1, high=1, size=(5,6))\n",
    "\n",
    "print(matrix_random)\n",
    "\n",
    "matrix_random[:, ::2] -= 2 * matrix_random[:, 1::2] \n",
    "# slice even / uneven columns\n",
    "# use -= to overwrite columns\n",
    "\n",
    "print(matrix_random)"
   ]
  },
  {
   "cell_type": "markdown",
   "id": "4a7e48de",
   "metadata": {},
   "source": [
    "12) Replace the negative values in M by 0. Compute the mean of each row of M. Substract to each row of M, its mean."
   ]
  },
  {
   "cell_type": "code",
   "execution_count": 14,
   "id": "f5b83385",
   "metadata": {},
   "outputs": [
    {
     "name": "stdout",
     "output_type": "stream",
     "text": [
      "Matrix M has row means of [[0.19398391]\n",
      " [0.26623073]\n",
      " [0.33701785]\n",
      " [0.23800315]\n",
      " [0.28559336]]. If we subtract the row means of each row the result Matrix is [[ 0.33764764 -0.19398391 -0.19398391 -0.10797446 -0.19398391  0.35227855]\n",
      " [ 0.97816045 -0.26623073 -0.26623073  0.08676248 -0.26623073 -0.26623073]\n",
      " [ 1.4798335  -0.33701785 -0.33701785 -0.33701785 -0.1317621  -0.33701785]\n",
      " [-0.23800315 -0.23800315 -0.17984581 -0.23800315  1.1318584  -0.23800315]\n",
      " [-0.28559336 -0.28559336 -0.28559336  0.17202774  0.97034571 -0.28559336]].\n"
     ]
    }
   ],
   "source": [
    "# We use the random matrix from question 11\n",
    "matrix_random[matrix_random<0] = 0 # replace elements <0 with 0\n",
    "\n",
    "matrix_random_mean = matrix_random.mean(axis=1, keepdims=True) \n",
    "\n",
    "# axis=1 calculates mean along rows\n",
    "# keepdims=True maintains (6,1) array form which\n",
    "# is neccesary for proper broadcasting afterwards\n",
    "\n",
    "matrix_random -= matrix_random_mean \n",
    "# matrix_random is broadcasted to fit the\n",
    "# (6,x) shape of M\n",
    "\n",
    "print(\n",
    "    f\"Matrix M has row means of {matrix_random_mean}.\"\n",
    "    f\" If we subtract the row means of each row\"\n",
    "    f\" the result Matrix is {matrix_random}.\"\n",
    ")"
   ]
  },
  {
   "cell_type": "markdown",
   "id": "fa8184c2",
   "metadata": {},
   "source": [
    "13) Create a random matrix M (5,10) with coefficients taken uniformly (and independently) in [-1,1]. Test whether G=M.TxM is symmetric semi-definite positive, and that its eigenvalues are strictly positive. Compute the rank of G. Compute the Euclidean norm of G. Compute the operator norm of G (aka spectral norm, aka Schatten 2-norm). Compute the standard deviation of each column of G."
   ]
  },
  {
   "cell_type": "code",
   "execution_count": 16,
   "id": "5b841bd8",
   "metadata": {},
   "outputs": [
    {
     "name": "stdout",
     "output_type": "stream",
     "text": [
      "The transverse of the random matrix \n",
      "[[ 0.721146   -0.43400434  0.18156801 -0.46650321 -0.63385246 -0.58809336\n",
      "  -0.53921122 -0.97741243  0.66337688 -0.25559778]\n",
      " [ 0.87126403  0.96145099  0.59878807 -0.53255127  0.81533361  0.99128811\n",
      "  -0.66919508  0.28287506 -0.07684145 -0.87750894]\n",
      " [ 0.31397324 -0.73574563 -0.90577025  0.7104275  -0.31885523 -0.69697391\n",
      "   0.99209317 -0.75621476  0.51301759 -0.93059456]\n",
      " [ 0.73893871 -0.37422388  0.36084675 -0.67600627  0.65130755  0.07464544\n",
      "   0.38616496  0.24452513  0.68673153 -0.62635464]\n",
      " [ 0.50751392  0.7547557  -0.82148536 -0.44165639  0.21079969 -0.3869816\n",
      "  -0.37453677  0.1770325   0.60137692  0.74892753]]\n",
      " multiplied with itself yields G: \n",
      "[[ 2.18133256  0.40021324  0.21798032 -1.30102843  0.74141881  0.0795012\n",
      "  -0.56513529 -0.42529386  1.38517586 -1.32379364]\n",
      " [ 0.40021324  2.36376908  0.40826235 -0.91261644  1.2089618   1.40109484\n",
      "  -1.56650239  1.2946626  -0.54233686  0.75158377]\n",
      " [ 0.21798032  0.40826235  2.01698242 -0.92819192  0.72378765  1.46292607\n",
      "  -0.95019517  0.61967871 -0.63645729 -0.57019644]\n",
      " [-1.30102843 -0.91261644 -0.92819192  1.65798818 -0.89842528 -0.62826162\n",
      "   1.21710134 -0.47540325 -0.63392041  0.01808676]\n",
      " [ 0.74141881  1.2089618   0.72378765 -0.89842528  1.63684453  1.37027025\n",
      "  -0.34761106  1.28787531 -0.07266933 -0.50680212]\n",
      " [ 0.0795012   1.40109484  1.46292607 -0.62826162  1.37027025  1.96960525\n",
      "  -0.86395736  1.33202677 -1.00531986 -0.40752439]\n",
      " [-0.56513529 -1.56650239 -0.95019517  1.21710134 -0.34761106 -0.86395736\n",
      "   2.01222083 -0.3843805   0.2426368  -0.72056776]\n",
      " [-0.42529386  1.2946626   0.61967871 -0.47540325  1.28787531  1.33202677\n",
      "  -0.3843805   1.69834718 -0.78369444  0.68475346]\n",
      " [ 1.38517586 -0.54233686 -0.63645729 -0.63392041 -0.07266933 -1.00531986\n",
      "   0.2426368  -0.78369444  1.54241494 -0.55928972]\n",
      " [-1.32379364  0.75158377 -0.57019644  0.01808676 -0.50680212 -0.40752439\n",
      "  -0.72056776  0.68475346 -0.55928972  2.65457097]]\n",
      " This matrix is symmetric (shape=(10, 10)), but not positive semi-definite as its eigenvalues are not >= 0. The rank of G is 5 and its norm is 10.456939561926987. The spectral norm of G is 8.12439311920404 and the standard deviation of each column is [[1.05795447 1.13358071 0.96259676 0.92818548 0.85411352 1.08351048\n",
      "  1.0212024  0.87545902 0.85367013 1.06833035]].\n"
     ]
    }
   ],
   "source": [
    "new_matrix = np.random.uniform(low=-1, high=1, size=(5,10))\n",
    "\n",
    "G = np.matmul(new_matrix.T, new_matrix) # matmul() for matrix multiplication\n",
    "\n",
    "G_shape = G.shape # G is a (10,10) symmetric Matrix ((10,5)x(5,10) = (10,10))\n",
    "\n",
    "G_definit_check = np.all(np.linalg.eigvals(G)>=0) \n",
    "# Eigenvalues are not >= 0\n",
    "# Hence, the matrix is not positive semi-definite\n",
    "\n",
    "G_rank = np.linalg.matrix_rank(G)\n",
    "G_norm = np.linalg.norm(G)\n",
    "\n",
    "G_specnorm = math.sqrt(max(abs(np.linalg.eigvals(np.matmul(G.T.conj(),G)))))\n",
    "\n",
    "# Spectral norm: square-root of the maximal eigenvalues \n",
    "# of conjugate transpose of G multiplied with G\n",
    "# alternative np formula: np.linalg.norm(G, ord=2, axis=(0,1))\n",
    "\n",
    "G_std = G.std(axis=0, keepdims=True) # standard deviation along columns\n",
    "\n",
    "print(\n",
    "    f\"The transverse of the random matrix \\n{new_matrix}\\n\" \n",
    "    f\" multiplied with itself yields G: \\n{G}\\n\"\n",
    "    f\" This matrix is symmetric (shape={G_shape}),\" \n",
    "    f\" but not positive semi-definite as its eigenvalues\"\n",
    "    f\" are not >= 0. The rank of G is {G_rank} and its norm is {G_norm}.\"\n",
    "    f\" The spectral norm of G is {G_specnorm} and\"\n",
    "    f\" the standard deviation of each column is {G_std}.\"\n",
    ")"
   ]
  },
  {
   "cell_type": "markdown",
   "id": "2a95fb38",
   "metadata": {},
   "source": [
    "14) Plot the functions x ÞÑ xd on the interval r ́1, 2s for d P t2, 3, 4u with a decent resolution. Put a xlabel, a ylabel, legend the 3 curves with d “ 2, d “ 3, d “ 4 respectively. Put a title."
   ]
  },
  {
   "cell_type": "code",
   "execution_count": 17,
   "id": "b1c07d62",
   "metadata": {},
   "outputs": [
    {
     "data": {
      "image/png": "[encoded data removed]",
      "text/plain": [
       "<Figure size 432x288 with 1 Axes>"
      ]
     },
     "metadata": {
      "needs_background": "light"
     },
     "output_type": "display_data"
    }
   ],
   "source": [
    "x = np.linspace(-1,2,10_000) # define interval from -1 to 2 \n",
    "                             # with 10_000 evenly spaced elements\n",
    "powers = [2, 3, 4]\n",
    "colors = [\"k\", \"r\", \"g\"]\n",
    "styles = [':', '--', '-']\n",
    "\n",
    "# iterate over list elements to create plot\n",
    "for power, color, style in zip(powers, colors, styles):\n",
    "    plt.plot(\n",
    "        x, np.power(x,power), label=f\"$d = {power}$\", \n",
    "             c=color, linestyle=style\n",
    "    )\n",
    "\n",
    "\n",
    "plt.legend()\n",
    "plt.xlabel(\"x\", size = 16) # add x-label x\n",
    "plt.ylabel(\"$x^d$\", size = 16) # add y-label x^d\n",
    "_= plt.title(f\"Plot for $d \\in {2, 3, 4}$ of the\" \n",
    "             f\"function $x \\mapsto x^d$ on the interval\" \n",
    "             f\"[-1,2]\", size = 12)"
   ]
  },
  {
   "cell_type": "markdown",
   "id": "a1a43cb1",
   "metadata": {},
   "source": [
    "## Bonus : Numpy broadcasting"
   ]
  },
  {
   "cell_type": "markdown",
   "id": "58fbcfe5",
   "metadata": {},
   "source": [
    "15) Create an array with integers 1, 3, ..., 19. Subtract its mean to it. Observe than you can thus subtract a number to an array, even though they do not have the same shape. Create an array with 3 lines and 4 columns, such that arr[i, j] = 4 * i + j (it thus contains integers from 0 to 11). reshape will help."
   ]
  },
  {
   "cell_type": "code",
   "execution_count": 18,
   "id": "a930a9aa",
   "metadata": {},
   "outputs": [
    {
     "name": "stdout",
     "output_type": "stream",
     "text": [
      "[ 1  3  5  7  9 11 13 15 17 19]\n",
      "[-9. -7. -5. -3. -1.  1.  3.  5.  7.  9.]\n",
      "[[ 0  1  2  3]\n",
      " [ 4  5  6  7]\n",
      " [ 8  9 10 11]]\n"
     ]
    }
   ],
   "source": [
    "numbers = np.arange(1,20,2)\n",
    "print(numbers)\n",
    "\n",
    "numbers = numbers - numbers.mean()\n",
    "print(numbers)\n",
    "\n",
    "matrix_bc = np.arange(0,12,1).reshape(3,4)\n",
    "print(matrix_bc)"
   ]
  },
  {
   "cell_type": "markdown",
   "id": "614be8f3",
   "metadata": {},
   "source": [
    "16) Now, we subtract vectors to 2D arrays, using broadcasting. Take the previous (3, 4) array, and subtract its column wise mean to it (easy). Subtract its row wise mean to it (technically more challenging the first time, you can add an axis to a 1D array with arr[:, None])."
   ]
  },
  {
   "cell_type": "code",
   "execution_count": 19,
   "id": "37ab0867",
   "metadata": {},
   "outputs": [
    {
     "name": "stdout",
     "output_type": "stream",
     "text": [
      "[[ 0  1  2  3]\n",
      " [ 4  5  6  7]\n",
      " [ 8  9 10 11]]\n",
      "[4. 5. 6. 7.]\n",
      "[[-4. -4. -4. -4.]\n",
      " [ 0.  0.  0.  0.]\n",
      " [ 4.  4.  4.  4.]]\n",
      "[1.5 5.5 9.5]\n",
      "[[-1.5 -0.5  0.5  1.5]\n",
      " [-1.5 -0.5  0.5  1.5]\n",
      " [-1.5 -0.5  0.5  1.5]]\n"
     ]
    }
   ],
   "source": [
    "print(matrix_bc)\n",
    "\n",
    "matrix_cmean = (\n",
    "    matrix_bc - matrix_bc.mean(axis=0, keepdims=True)\n",
    ") # axis=0 calculates column mean\n",
    "  # keepdims=True ensures that dimension stays the \n",
    "  # same as in orginal matrix for broadcasting\n",
    "\n",
    "print(matrix_bc.mean(axis=0))\n",
    "print(matrix_cmean)\n",
    "\n",
    "matrix_rmean = (\n",
    "    matrix_bc - matrix_bc.mean(axis=1, keepdims=True)\n",
    ") # axis=1 calculates row mean\n",
    "\n",
    "print(matrix_bc.mean(axis=1))\n",
    "print(matrix_rmean)"
   ]
  },
  {
   "cell_type": "markdown",
   "id": "948efde3",
   "metadata": {},
   "source": [
    "17) Using broadcasting and np.arange, create an array of shape (3, 5) such that arr[i, j] = i * j."
   ]
  },
  {
   "cell_type": "code",
   "execution_count": 20,
   "id": "6dc4cb3b",
   "metadata": {},
   "outputs": [
    {
     "name": "stdout",
     "output_type": "stream",
     "text": [
      "[[0 0 0 0 0]\n",
      " [0 1 2 3 4]\n",
      " [0 2 4 6 8]]\n"
     ]
    }
   ],
   "source": [
    "matrix_bc17 = np.arange(0,5,1) * np.arange(0,3,1)[:, np.newaxis]\n",
    "# second vector stored as column vector for broadcasting\n",
    "\n",
    "print(matrix_bc17)"
   ]
  },
  {
   "cell_type": "markdown",
   "id": "1f5ca19e",
   "metadata": {},
   "source": [
    "## Bonus : value and reference types"
   ]
  },
  {
   "cell_type": "markdown",
   "id": "c73dde25",
   "metadata": {},
   "source": [
    "18) Create a variable a equal to 1000. Check the address in memory of the variable with a. Create a second variable b equal to 1000. What is the address in memory of b ? Create a third variable c equal to a. Do a += 1. How does it affect the values of the three variables ? Why ?"
   ]
  },
  {
   "cell_type": "code",
   "execution_count": 21,
   "id": "2557d973",
   "metadata": {},
   "outputs": [
    {
     "name": "stdout",
     "output_type": "stream",
     "text": [
      "0x7fdf7c0cc2b0\n",
      "0x7fdf7c0cc790\n",
      "1001 1000 1000\n"
     ]
    }
   ],
   "source": [
    "a = 1_000\n",
    "print(hex(id(a))) # check memory address of a\n",
    "\n",
    "b = 1_000\n",
    "print(hex(id(b))) # check memory address of b\n",
    "\n",
    "c = a # pass by value\n",
    "a += 1\n",
    "\n",
    "print(a,b,c)\n",
    "\n",
    "# a is increased by whereas whereas c remains unchanged.\n",
    "# The value of a is passed by value to c and not by reference\n",
    "# i.e. the storage location of c is not altered when a\n",
    "# is later on altered"
   ]
  },
  {
   "cell_type": "markdown",
   "id": "2c5f0a41",
   "metadata": {},
   "source": [
    "19) Do the same with a = np.array([0, 1]). What is going on ?"
   ]
  },
  {
   "cell_type": "code",
   "execution_count": 22,
   "id": "9cb50d45",
   "metadata": {
    "scrolled": true
   },
   "outputs": [
    {
     "name": "stdout",
     "output_type": "stream",
     "text": [
      "[1 2] [1 2]\n"
     ]
    }
   ],
   "source": [
    "a = np.array([0, 1])\n",
    "\n",
    "c = a # pass by reference\n",
    "\n",
    "a += 1\n",
    "\n",
    "print(a,c)\n",
    "\n",
    "# Both a and c are increased by 1.\n",
    "# when using np arrays the values are passed\n",
    "# by reference, i.e. the storage location of c is\n",
    "# altered when a is altered."
   ]
  },
  {
   "cell_type": "markdown",
   "id": "afd1393b",
   "metadata": {},
   "source": [
    "20) Create two variables equal to 1. Using ==, are they equal ? Using is, are they equal ? Do the same when they are equal to 1000. Medit. What is going on ?"
   ]
  },
  {
   "cell_type": "code",
   "execution_count": 24,
   "id": "be804190",
   "metadata": {},
   "outputs": [
    {
     "name": "stdout",
     "output_type": "stream",
     "text": [
      "True\n",
      "True\n",
      "True\n",
      "False\n"
     ]
    }
   ],
   "source": [
    "d = 1\n",
    "e = 1\n",
    "\n",
    "print(d == e)\n",
    "print(d is e) # both are equal\n",
    "\n",
    "f = 1_000\n",
    "g = 1_000\n",
    "\n",
    "print(f == g) # equal\n",
    "print(f is g) # not equal\n",
    "\n",
    "# \"is\" turns True if two variables point to the same object in memory, \n",
    "# \"\"==\"\" turns True if the objects referred to by the variables are equal.\n",
    "# Python caches smaller integers (-5 to 256) but not larger ones,\n",
    "# this is why the first \"is\" evaluation turns True \n",
    "# (refers to the same object in memory) and the second False."
   ]
  }
 ],
 "metadata": {
  "kernelspec": {
   "display_name": "Python 3 (ipykernel)",
   "language": "python",
   "name": "python3"
  },
  "language_info": {
   "codemirror_mode": {
    "name": "ipython",
    "version": 3
   },
   "file_extension": ".py",
   "mimetype": "text/x-python",
   "name": "python",
   "nbconvert_exporter": "python",
   "pygments_lexer": "ipython3",
   "version": "3.9.12"
  }
 },
 "nbformat": 4,
 "nbformat_minor": 5
}
