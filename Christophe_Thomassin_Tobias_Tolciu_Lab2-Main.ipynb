{
 "cells": [
  {
   "cell_type": "markdown",
   "id": "31bb7176",
   "metadata": {},
   "source": [
    "## Lab : Introduction: Python, Numpy, Pandas"
   ]
  },
  {
   "cell_type": "markdown",
   "id": "a0c7367d",
   "metadata": {},
   "source": [
    "# DOCSTRINGS FOR FUNCTIONS"
   ]
  },
  {
   "cell_type": "markdown",
   "id": "cab42aa8",
   "metadata": {},
   "source": [
    "## 1. Time series analysis with pandas"
   ]
  },
  {
   "cell_type": "code",
   "execution_count": 1,
   "id": "5ecc99f2",
   "metadata": {},
   "outputs": [],
   "source": [
    "from os import path\n",
    "import math\n",
    "import numpy as np\n",
    "import pandas as pd\n",
    "import urllib\n",
    "import zipfile\n",
    "import sys\n",
    "import datetime\n",
    "import matplotlib.pyplot as plt\n",
    "import random\n",
    "import timeit\n",
    "from sklearn.linear_model import LinearRegression\n",
    "from sklearn.preprocessing import StandardScaler\n",
    "import statsmodels.api as sm\n",
    "from sklearn.pipeline import Pipeline\n",
    "import time"
   ]
  },
  {
   "cell_type": "code",
   "execution_count": 2,
   "id": "4295f884",
   "metadata": {},
   "outputs": [],
   "source": [
    "url = u'https://archive.ics.uci.edu/ml/machine-learning-databases/00235/' \n",
    "filename = 'household_power_consumption'\n",
    "zipfilename = filename + '.zip'\n",
    "location = url + zipfilename\n",
    "\n",
    "if not(path.isfile(zipfilename)):\n",
    "    urllib.request.urlretrieve(location, zipfilename)\n",
    "        \n",
    "zipfile.ZipFile(zipfilename).extractall()\n",
    "\n",
    "na_values = ['?', '']\n",
    "fields = ['Date', 'Time', 'Global_active_power']\n",
    "df = pd.read_csv(filename + '.txt', sep=';', nrows=200000,\n",
    "                 na_values=na_values, usecols=fields)"
   ]
  },
  {
   "cell_type": "markdown",
   "id": "2dcee9f2",
   "metadata": {},
   "source": [
    "1) Count the number of lines with missing values. Erase all such lines."
   ]
  },
  {
   "cell_type": "code",
   "execution_count": 3,
   "id": "0f1ed118",
   "metadata": {},
   "outputs": [
    {
     "name": "stdout",
     "output_type": "stream",
     "text": [
      "0.01866\n"
     ]
    }
   ],
   "source": [
    "isna = df.loc[:, 'Global_active_power'].isna().sum() \n",
    "print(isna / df.shape[0]) # check % of missing rows, here\n",
    "                          # small enough to erase lines\n",
    "\n",
    "df.dropna(subset='Global_active_power', inplace=True)\n",
    "# inplace=True to apply changes directly to dataset"
   ]
  },
  {
   "cell_type": "markdown",
   "id": "f261004d",
   "metadata": {},
   "source": [
    "2) Use pandas functions to_datetime and set_index to create a Time Series. You should first pre- serve the full date information, i.e. keep the hour, minute, seconds information in your newly created DateTime. Beware, when reading dates, that the international dates format that is different from the French standard."
   ]
  },
  {
   "cell_type": "code",
   "execution_count": 4,
   "id": "321630be",
   "metadata": {},
   "outputs": [],
   "source": [
    "df.insert(0, 'DateTime', \n",
    "            pd.to_datetime(df['Date'] + \" \" + df[\"Time\"], \n",
    "            format=\"%d/%m/%Y %H:%M:%S\")\n",
    ") # insert new column by merging Date and Time column\n",
    "\n",
    "df = df.drop(['Date','Time'], axis=1).set_index('DateTime')\n",
    "# drop old Date and Time column and set new column as index"
   ]
  },
  {
   "cell_type": "code",
   "execution_count": 1,
   "id": "4addfe5a",
   "metadata": {},
   "outputs": [
    {
     "ename": "NameError",
     "evalue": "name 'plt' is not defined",
     "output_type": "error",
     "traceback": [
      "\u001b[0;31m---------------------------------------------------------------------------\u001b[0m",
      "\u001b[0;31mNameError\u001b[0m                                 Traceback (most recent call last)",
      "Input \u001b[0;32mIn [1]\u001b[0m, in \u001b[0;36m<cell line: 1>\u001b[0;34m()\u001b[0m\n\u001b[0;32m----> 1\u001b[0m \u001b[43mplt\u001b[49m\u001b[38;5;241m.\u001b[39mfigure(figsize\u001b[38;5;241m=\u001b[39m(\u001b[38;5;241m15\u001b[39m, \u001b[38;5;241m10\u001b[39m))\n\u001b[1;32m      2\u001b[0m plt\u001b[38;5;241m.\u001b[39mplot(df)\n\u001b[1;32m      3\u001b[0m plt\u001b[38;5;241m.\u001b[39mtitle(\u001b[38;5;124m\"\u001b[39m\u001b[38;5;124mTime Series plot of Global active power\u001b[39m\u001b[38;5;124m\"\u001b[39m, fontsize\u001b[38;5;241m=\u001b[39m\u001b[38;5;241m16\u001b[39m)\n",
      "\u001b[0;31mNameError\u001b[0m: name 'plt' is not defined"
     ]
    }
   ],
   "source": [
    "plt.figure(figsize=(15, 10))\n",
    "plt.plot(df)\n",
    "plt.title(\"Time Series plot of Global active power\", fontsize=16)\n",
    "plt.xlabel(\"time\", fontsize=16)\n",
    "_= plt.ylabel(\"Global active power\", fontsize=16)"
   ]
  },
  {
   "cell_type": "markdown",
   "id": "1b06b63b",
   "metadata": {},
   "source": [
    "3) Display the graphic of daily averages, between January 1 2007 and April 30 2007. Propose an explanation for the consumption behavior between February and early April."
   ]
  },
  {
   "cell_type": "code",
   "execution_count": 2,
   "id": "bdf504c6",
   "metadata": {},
   "outputs": [
    {
     "ename": "NameError",
     "evalue": "name 'df' is not defined",
     "output_type": "error",
     "traceback": [
      "\u001b[0;31m---------------------------------------------------------------------------\u001b[0m",
      "\u001b[0;31mNameError\u001b[0m                                 Traceback (most recent call last)",
      "Input \u001b[0;32mIn [2]\u001b[0m, in \u001b[0;36m<cell line: 1>\u001b[0;34m()\u001b[0m\n\u001b[0;32m----> 1\u001b[0m df_temp \u001b[38;5;241m=\u001b[39m \u001b[43mdf\u001b[49m[\u001b[38;5;124m'\u001b[39m\u001b[38;5;124m2007-01-01\u001b[39m\u001b[38;5;124m'\u001b[39m:\u001b[38;5;124m'\u001b[39m\u001b[38;5;124m2007-04-30\u001b[39m\u001b[38;5;124m'\u001b[39m] \u001b[38;5;66;03m# subset dataset\u001b[39;00m\n\u001b[1;32m      3\u001b[0m df_temp\u001b[38;5;241m.\u001b[39mresample(\u001b[38;5;124m\"\u001b[39m\u001b[38;5;124mD\u001b[39m\u001b[38;5;124m\"\u001b[39m)\u001b[38;5;241m.\u001b[39mmean()\u001b[38;5;241m.\u001b[39mplot(style\u001b[38;5;241m=\u001b[39m\u001b[38;5;124m\"\u001b[39m\u001b[38;5;124m-o\u001b[39m\u001b[38;5;124m\"\u001b[39m, figsize\u001b[38;5;241m=\u001b[39m(\u001b[38;5;241m10\u001b[39m, \u001b[38;5;241m5\u001b[39m))\n\u001b[1;32m      4\u001b[0m \u001b[38;5;66;03m# create and plot daily averages\u001b[39;00m\n",
      "\u001b[0;31mNameError\u001b[0m: name 'df' is not defined"
     ]
    }
   ],
   "source": [
    "df_temp = df['2007-01-01':'2007-04-30'] # subset dataset\n",
    "\n",
    "df_temp.resample(\"D\").mean().plot(style=\"-o\", figsize=(10, 5))\n",
    "# create and plot daily averages\n",
    "\n",
    "plt.title(f\"Time Series plot of Global active power\"\n",
    "          f\" Jan 1 2007 - April 30 2007\", fontsize=16)\n",
    "plt.xlabel(\"time\", fontsize=16)\n",
    "_= plt.ylabel(\"Global active power\", fontsize=16)"
   ]
  },
  {
   "cell_type": "markdown",
   "id": "0996632e",
   "metadata": {},
   "source": [
    "The global power consumption oscillates normally until\n",
    "March, which experienced a steep drop in energy consumption.\n",
    "This can be due to some external shock, e.g. a steep increase\n",
    "in prices or supply shortage."
   ]
  },
  {
   "cell_type": "markdown",
   "id": "c4253b12",
   "metadata": {},
   "source": [
    "4) Load the dataset with pandas, and keep only the DATE and TG columns. Divide by 10 the TG column to get Celsius temperature. Treat missing values as NaNs."
   ]
  },
  {
   "cell_type": "code",
   "execution_count": 9,
   "id": "45df2b36",
   "metadata": {},
   "outputs": [
    {
     "data": {
      "text/plain": [
       "TG    0.0\n",
       "dtype: float64"
      ]
     },
     "execution_count": 9,
     "metadata": {},
     "output_type": "execute_result"
    }
   ],
   "source": [
    "df4 = pd.read_csv(\"TG_STAID011249.txt\", sep=',', comment='#', usecols=[2, 3])\n",
    "df4.columns = ['DATE', 'TG'] # rename columns\n",
    "df4['DATE'] = pd.to_datetime(df4['DATE'], format=\"%Y%m%d\")\n",
    "df4 = df4.set_index('DATE')\n",
    "\n",
    "df4['TG'] = df4['TG'].values/10 # calculate Celsuis temperature\n",
    "df4[df4.isna().any(axis=1)].sum() # check missing values, here none"
   ]
  },
  {
   "cell_type": "markdown",
   "id": "7894463e",
   "metadata": {},
   "source": [
    "5) Create a pandas Time Series with the daily temperatures between January 1 2007 and April 30 2007. Display on the same graph the temperature and the Global_active_power Time Series. Using a twinx axis might help to display 2 series of values with different magnitudes in a readable fashion."
   ]
  },
  {
   "cell_type": "code",
   "execution_count": 10,
   "id": "526d0caf",
   "metadata": {
    "scrolled": false
   },
   "outputs": [
    {
     "data": {
      "image/png": "[encoded data removed]",
      "text/plain": [
       "<Figure size 1080x360 with 2 Axes>"
      ]
     },
     "metadata": {
      "needs_background": "light"
     },
     "output_type": "display_data"
    }
   ],
   "source": [
    "df4_temp = df4['2007-01-01':'2007-04-30'] # subset dataset\n",
    "\n",
    "x = df4_temp.index\n",
    "y1 = df_temp.resample(\"D\").mean().iloc[:,0]\n",
    "y2 = df4_temp.iloc[:,0]\n",
    "\n",
    "fig, ax1 = plt.subplots(figsize=(15, 5))\n",
    "\n",
    "ax2 = ax1.twinx()\n",
    "ax1.plot(x, y1, 'g-')\n",
    "ax2.plot(x, y2, 'b-')\n",
    "\n",
    "ax1.set_xlabel('Time')\n",
    "ax1.set_ylabel('Global active power', color='g')\n",
    "ax2.set_ylabel('Daily temperature', color='b')\n",
    "_= plt.title(f\"Time Series plot of Global active power\"\n",
    "          f\" and daily temperatures between\" \n",
    "          f\" Jan 1 2007 - April 30 2007\", fontsize = 12)"
   ]
  },
  {
   "cell_type": "markdown",
   "id": "207c8384",
   "metadata": {},
   "source": [
    "## 2. Linear Algebra"
   ]
  },
  {
   "cell_type": "markdown",
   "id": "916a3ce6",
   "metadata": {},
   "source": [
    "We remind the following linear algebra fact: for any $X \\in \\mathbb{R}^{nxp}$ and $y \\in \\mathbb{R}^n$ the following equation\n",
    "holds true:\n",
    "$X^T(XX^T + \\lambda Id_n)^{-1}y = (X^TX + \\lambda Id_p)^{-1}X^Ty$ (Equality 1)"
   ]
  },
  {
   "cell_type": "markdown",
   "id": "c6eff947",
   "metadata": {},
   "source": [
    "6) Check this property numerically for $λ = 10^{-5}$ without inverting any matrix. To compute $A^{-1}=b$, never invert directly A: solve the linear system Ax = b with np.linalg.solve, for a matrix X whose entries are generated randomly (i.i.d.) according to a Gaussian distribution with mean zero and variance 5, and for a vector y with coordinates generated randomly (i.i.d.) according to a uniform distribution over [-1, 1],"
   ]
  },
  {
   "cell_type": "markdown",
   "id": "50a928b2",
   "metadata": {},
   "source": [
    "function to compute the term on the left of the equality sign in equality 1 <br> input: X (n x p matrix), y (n x 1 vector) <br> output: result_left - result of left term"
   ]
  },
  {
   "cell_type": "code",
   "execution_count": 11,
   "id": "c9235015",
   "metadata": {},
   "outputs": [],
   "source": [
    "def calculate_left(X, y, const_lambda):\n",
    "    n, _ = X.shape # number of rows in X\n",
    "    A = np.matmul(X, X.T) + (const_lambda * np.identity(n)) \n",
    "    # compute matrix to be inverted\n",
    "    inverse = np.linalg.solve(A, y) \n",
    "    # invert matrix using above-mentioned method\n",
    "    result_left = np.matmul(X.T, inverse)\n",
    "    return result_left"
   ]
  },
  {
   "cell_type": "markdown",
   "id": "53fdaec8",
   "metadata": {},
   "source": [
    "function to compute the term on the right of the equality sign in equality 1; input: X (n x p matrix), y (n x 1 vector); output: result_right - result of right term"
   ]
  },
  {
   "cell_type": "code",
   "execution_count": 10,
   "id": "6a8da7f4",
   "metadata": {},
   "outputs": [],
   "source": [
    "def calculate_right(X, y, const_lambda):\n",
    "    _, p = X.shape # number of columns in X\n",
    "    A = np.matmul(X.T, X) + (const_lambda * np.identity(p)) \n",
    "    # compute matrix to be inverted\n",
    "    b = np.matmul(X.T, y)\n",
    "    result_right = np.linalg.solve(A, b) \n",
    "    # invert matrix using above-mentioned method\n",
    "    return result_right"
   ]
  },
  {
   "cell_type": "markdown",
   "id": "434f66f2",
   "metadata": {},
   "source": [
    "Function that creates every element of the equation, calls calculate_right and calculate_left to calculate the result of both terms and also monitors the time both terms need to compute. Then checks if both terms are equal \n",
    "<br> input: n - number of rows of X columns of y, p - number of columns of X, const_lambda - constant number <br> output: times_left - array of times it took to compute the left term times_right - array of times it took to compute the right term"
   ]
  },
  {
   "cell_type": "code",
   "execution_count": 11,
   "id": "6510d1dc",
   "metadata": {},
   "outputs": [],
   "source": [
    "def equality_check(n, p, const_lambda):\n",
    "    times_left = []\n",
    "    times_right = []\n",
    "    for i in np.arange(0, len(p), 1): # for-loop to check equality for every p \n",
    "        X = np.random.normal(0, math.sqrt(5), size=(n[i], p[i]))\n",
    "        y = np.random.uniform(low=-1, high=1, size=(n[i]))\n",
    "        t0_left = time.time() # start time measurement for left term\n",
    "        left_side = calculate_left(X, y, const_lambda) # compute left term\n",
    "        t1_left = time.time() # stop time measurement for left term\n",
    "        time_left = t1_left - t0_left # compute time it took to compute left term\n",
    "        t0_right = time.time() # start time measurement for right term\n",
    "        right_side = calculate_right(X, y, const_lambda) # compute right term\n",
    "        t1_right = time.time() # stop time measurement for right term\n",
    "        time_right = t1_right - t0_right # compute time it took to compute right term\n",
    "        equality = np.allclose(left_side, right_side) # check if terms are equal\n",
    "        print(equality)\n",
    "        times_left.append(time_left)\n",
    "        times_right.append(time_right)\n",
    "    return times_left, times_right"
   ]
  },
  {
   "cell_type": "markdown",
   "id": "44300125",
   "metadata": {},
   "source": [
    "(a) Check it for n=100 and p=2000,"
   ]
  },
  {
   "cell_type": "code",
   "execution_count": 12,
   "id": "7fe4a628",
   "metadata": {},
   "outputs": [],
   "source": [
    "# define all needed constants for task 6a\n",
    "n = [100]\n",
    "p = [2000]\n",
    "const_lambda = 10e-5"
   ]
  },
  {
   "cell_type": "code",
   "execution_count": 13,
   "id": "dac3a603",
   "metadata": {
    "scrolled": true
   },
   "outputs": [
    {
     "name": "stdout",
     "output_type": "stream",
     "text": [
      "True\n"
     ]
    }
   ],
   "source": [
    "_ = equality_check(n, p, const_lambda) \n",
    "# call function EqualityCheck for given constants "
   ]
  },
  {
   "cell_type": "markdown",
   "id": "fe98cf06",
   "metadata": {},
   "source": [
    "(b) Check it for n= 2000 and p=100."
   ]
  },
  {
   "cell_type": "code",
   "execution_count": 14,
   "id": "67fd4944",
   "metadata": {},
   "outputs": [],
   "source": [
    "# append all needed constants for task 6b\n",
    "n += [2000]  \n",
    "p += [100]"
   ]
  },
  {
   "cell_type": "code",
   "execution_count": 15,
   "id": "6437d404",
   "metadata": {},
   "outputs": [
    {
     "name": "stdout",
     "output_type": "stream",
     "text": [
      "True\n",
      "True\n"
     ]
    }
   ],
   "source": [
    "_ = equality_check(n, p, const_lambda) \n",
    "# call function EqualityCheck for given constants "
   ]
  },
  {
   "cell_type": "markdown",
   "id": "073e84e0",
   "metadata": {},
   "source": [
    "7) For a few scenarios similar to (a) and (b) (n << p, p << n), do a short numerical/graphical study to compare (according to n and p) when it is more time efficient to compute the quantity in (1) using the left hand side formulation or right hand side formulation. Explain the results."
   ]
  },
  {
   "cell_type": "code",
   "execution_count": 16,
   "id": "0d9c5aa5",
   "metadata": {
    "scrolled": true
   },
   "outputs": [
    {
     "name": "stdout",
     "output_type": "stream",
     "text": [
      "True\n",
      "True\n",
      "True\n",
      "True\n",
      "True\n",
      "True\n",
      "True\n",
      "True\n"
     ]
    }
   ],
   "source": [
    "# append all needed constants for task 7\n",
    "n += [80, 3000, 140, 2600, 30, 5000]\n",
    "p += [3400, 200, 4200, 40, 1500, 220]\n",
    "[times_left, times_right] = equality_check(n, p, const_lambda) \n",
    "# call function EqualityCheck for given constants and save\n",
    "# the measured computation times"
   ]
  },
  {
   "cell_type": "code",
   "execution_count": 17,
   "id": "dd3a11ab",
   "metadata": {},
   "outputs": [
    {
     "data": {
      "text/html": [
       "<div>\n",
       "<style scoped>\n",
       "    .dataframe tbody tr th:only-of-type {\n",
       "        vertical-align: middle;\n",
       "    }\n",
       "\n",
       "    .dataframe tbody tr th {\n",
       "        vertical-align: top;\n",
       "    }\n",
       "\n",
       "    .dataframe thead th {\n",
       "        text-align: right;\n",
       "    }\n",
       "</style>\n",
       "<table border=\"1\" class=\"dataframe\">\n",
       "  <thead>\n",
       "    <tr style=\"text-align: right;\">\n",
       "      <th></th>\n",
       "      <th>n_values</th>\n",
       "      <th>p_values</th>\n",
       "      <th>times_left</th>\n",
       "      <th>times_right</th>\n",
       "      <th>difference_left_right</th>\n",
       "    </tr>\n",
       "  </thead>\n",
       "  <tbody>\n",
       "    <tr>\n",
       "      <th>0</th>\n",
       "      <td>100</td>\n",
       "      <td>2000</td>\n",
       "      <td>0.000953</td>\n",
       "      <td>0.096496</td>\n",
       "      <td>-0.095543</td>\n",
       "    </tr>\n",
       "    <tr>\n",
       "      <th>1</th>\n",
       "      <td>2000</td>\n",
       "      <td>100</td>\n",
       "      <td>0.087822</td>\n",
       "      <td>0.000796</td>\n",
       "      <td>0.087026</td>\n",
       "    </tr>\n",
       "    <tr>\n",
       "      <th>2</th>\n",
       "      <td>80</td>\n",
       "      <td>3400</td>\n",
       "      <td>0.000745</td>\n",
       "      <td>0.427095</td>\n",
       "      <td>-0.426350</td>\n",
       "    </tr>\n",
       "    <tr>\n",
       "      <th>3</th>\n",
       "      <td>3000</td>\n",
       "      <td>200</td>\n",
       "      <td>0.259060</td>\n",
       "      <td>0.012643</td>\n",
       "      <td>0.246417</td>\n",
       "    </tr>\n",
       "    <tr>\n",
       "      <th>4</th>\n",
       "      <td>140</td>\n",
       "      <td>4200</td>\n",
       "      <td>0.002365</td>\n",
       "      <td>0.750552</td>\n",
       "      <td>-0.748187</td>\n",
       "    </tr>\n",
       "    <tr>\n",
       "      <th>5</th>\n",
       "      <td>2600</td>\n",
       "      <td>40</td>\n",
       "      <td>0.172144</td>\n",
       "      <td>0.000569</td>\n",
       "      <td>0.171575</td>\n",
       "    </tr>\n",
       "    <tr>\n",
       "      <th>6</th>\n",
       "      <td>30</td>\n",
       "      <td>1500</td>\n",
       "      <td>0.000327</td>\n",
       "      <td>0.061024</td>\n",
       "      <td>-0.060697</td>\n",
       "    </tr>\n",
       "    <tr>\n",
       "      <th>7</th>\n",
       "      <td>5000</td>\n",
       "      <td>220</td>\n",
       "      <td>1.080018</td>\n",
       "      <td>0.005397</td>\n",
       "      <td>1.074621</td>\n",
       "    </tr>\n",
       "  </tbody>\n",
       "</table>\n",
       "</div>"
      ],
      "text/plain": [
       "   n_values  p_values  times_left  times_right  difference_left_right\n",
       "0       100      2000    0.000953     0.096496              -0.095543\n",
       "1      2000       100    0.087822     0.000796               0.087026\n",
       "2        80      3400    0.000745     0.427095              -0.426350\n",
       "3      3000       200    0.259060     0.012643               0.246417\n",
       "4       140      4200    0.002365     0.750552              -0.748187\n",
       "5      2600        40    0.172144     0.000569               0.171575\n",
       "6        30      1500    0.000327     0.061024              -0.060697\n",
       "7      5000       220    1.080018     0.005397               1.074621"
      ]
     },
     "execution_count": 17,
     "metadata": {},
     "output_type": "execute_result"
    }
   ],
   "source": [
    "d = {'n_values': n, 'p_values': p, \n",
    "     'times_left': times_left, 'times_right': times_right}\n",
    "# create data dictionary with all values of n,\n",
    "# p, times_left and times_right\n",
    "df = pd.DataFrame(data=d)\n",
    "# create data frame with all values of n and p \n",
    "# plus the according computation times\n",
    "df[\"difference_left_right\"] = df[\"times_left\"] - df[\"times_right\"]\n",
    "# add new column to time frame containing the difference \n",
    "# between the computation time of the left term and the right term \n",
    "df"
   ]
  },
  {
   "cell_type": "code",
   "execution_count": 18,
   "id": "83dfe84a",
   "metadata": {
    "scrolled": true
   },
   "outputs": [
    {
     "data": {
      "image/png": "[encoded data removed]",
      "text/plain": [
       "<Figure size 1080x360 with 2 Axes>"
      ]
     },
     "metadata": {
      "needs_background": "light"
     },
     "output_type": "display_data"
    }
   ],
   "source": [
    "# plot to allow visual understanding of the changement of computing times\n",
    "# for the different matrices\n",
    "x = df[\"n_values\"]\n",
    "y1 = df[\"p_values\"]\n",
    "y2 = df[\"difference_left_right\"]\n",
    "fig, ax1 = plt.subplots(figsize=(15, 5)) \n",
    "ax2 = ax1.twinx() # create second axis \n",
    "# to display two different values spaces on the y axis\n",
    "ax1.scatter(x, y1)\n",
    "ax2.scatter(x, y2)\n",
    "ax1.set_xlabel('n-values')\n",
    "ax1.set_ylabel('p-values')\n",
    "ax2.set_ylabel('difference left - right', color='b')\n",
    "plt.axhline(y = 0, color = 'r', linestyle='-')\n",
    "plt.title(\"Difference calculation time left and right side\", fontsize=16)\n",
    "plt.show()"
   ]
  },
  {
   "cell_type": "markdown",
   "id": "b3fbdb24",
   "metadata": {},
   "source": [
    "We can cleary see that the computation of the left term is faster if n<p and vice versa.\n",
    "for small values of p and large values n (see cloud of point near n=0) the difference \n",
    "left-right tends to be positive. Thus, the right term takes less time to compute.\n",
    "For large values of p and small values n (see cloud of point near p=0) the difference \n",
    "left-right tends to be negative. Thus, the left term takes less time to compute.\n",
    "The most costly computations of the two terms in regard to their computation time\n",
    "is the matrix inversion ($O(n^3)$ with maxtrix n x x). The main difference between the \n",
    "two terms is the shape of the matrix that has to be inverted. While in the left term a \n",
    "n x n matrix has to be inverted, in the right term, a p x p matrix has to be inverted.\n",
    "Thus, the left side is slower for large values of n and the right side is smaller for \n",
    "large values of p."
   ]
  },
  {
   "cell_type": "markdown",
   "id": "a820c4b0",
   "metadata": {},
   "source": [
    "## 3. Random Matrix Spectrum"
   ]
  },
  {
   "cell_type": "markdown",
   "id": "a247d9dc",
   "metadata": {},
   "source": [
    "8) Choose three non-Gaussian probability distributions, with mean 0 and variance 2, and write a function that takes as input n, p and the distribution name, and creates a matrix X (n,p) with entries generated (i.i.d.) according to this distribution."
   ]
  },
  {
   "cell_type": "code",
   "execution_count": 12,
   "id": "76e583ff",
   "metadata": {},
   "outputs": [],
   "source": [
    "def matrix_generator(n, p, distribution):\n",
    "    mat_rand = np.zeros((n, p)) # create zero matrix to fill\n",
    "    \n",
    "    if distribution == \"uniform\":\n",
    "        mat_rand = np.random.uniform(-np.sqrt(6), np.sqrt(6), size=(n, p)) \n",
    "        # choose lower and upper bound as sqrt(6) to generate\n",
    "        # distribution with mean 0 and var 2\n",
    "    \n",
    "    if distribution == \"logistic\":\n",
    "        mat_rand = np.random.logistic(0, np.sqrt(6/np.pi**2), size=(n, p))\n",
    "        # define mean=0 and scale such that var=2\n",
    "        \n",
    "    if distribution == \"laplace\":\n",
    "        mat_rand = np.random.laplace(0, 1, size=(n, p))\n",
    "        # define mean=0 and scale such that var=2\n",
    "        \n",
    "    return mat_rand"
   ]
  },
  {
   "cell_type": "markdown",
   "id": "9384d8e3",
   "metadata": {},
   "source": [
    "9) Display on one single graph the singular values of X for n = 1000, and p = 200, 500, 1000, 2000 for the three distributions chosen."
   ]
  },
  {
   "cell_type": "code",
   "execution_count": 13,
   "id": "9180aaa4",
   "metadata": {},
   "outputs": [
    {
     "data": {
      "image/png": "[encoded data removed]",
      "text/plain": [
       "<Figure size 432x288 with 1 Axes>"
      ]
     },
     "metadata": {
      "needs_background": "light"
     },
     "output_type": "display_data"
    },
    {
     "data": {
      "image/png": "[encoded data removed]",
      "text/plain": [
       "<Figure size 432x288 with 1 Axes>"
      ]
     },
     "metadata": {
      "needs_background": "light"
     },
     "output_type": "display_data"
    },
    {
     "data": {
      "image/png": "[encoded data removed]",
      "text/plain": [
       "<Figure size 432x288 with 1 Axes>"
      ]
     },
     "metadata": {
      "needs_background": "light"
     },
     "output_type": "display_data"
    }
   ],
   "source": [
    "# Set values for n and p\n",
    "n = 1_000\n",
    "p_range = [200, 500, 1_000, 2_000]\n",
    "\n",
    "# Define lists that contain singular values\n",
    "# for each value of p\n",
    "singular_values_uniform = []\n",
    "singular_values_logistic =[]\n",
    "singular_values_laplace = []\n",
    "\n",
    "for i in p_range:\n",
    "    singular_values_uniform.append(\n",
    "        np.linalg.svd(matrix_generator(n, i, \"uniform\"))[1]\n",
    "    )\n",
    "    singular_values_logistic.append(\n",
    "        np.linalg.svd(matrix_generator(n, i, \"logistic\"))[1]\n",
    "    )\n",
    "    singular_values_laplace.append(\n",
    "        np.linalg.svd(matrix_generator(n, i, \"laplace\"))[1]\n",
    "    )\n",
    "\n",
    "# Plot singular values of X for n and p\n",
    "\n",
    "# Uniform\n",
    "plt.figure()\n",
    "for i in range(0, 4):\n",
    "    plt.plot(singular_values_uniform[i], label=(\"p = \" + str(p_range[i])))\n",
    "plt.legend()\n",
    "plt.title(\"Singular values of Matrix X following a uniform distribution\")\n",
    "plt.xlabel(\"Indexes\")\n",
    "plt.ylabel(\"Singular values\")\n",
    "\n",
    "# Logistic\n",
    "plt.figure()\n",
    "for i in range(0, 4):\n",
    "    plt.plot(singular_values_logistic[i], label=(\"p = \" + str(p_range[i])))\n",
    "plt.legend()\n",
    "plt.title(\"Singular values of Matrix X following a logistic distribution\")\n",
    "plt.xlabel(\"Indexes\")\n",
    "plt.ylabel(\"Singular values\")\n",
    "\n",
    "# Laplace\n",
    "plt.figure()\n",
    "for i in range(0, 4):\n",
    "    plt.plot(singular_values_laplace[i], label=(\"p = \" + str(p_range[i])))\n",
    "plt.legend()\n",
    "plt.title(\"Singular values of Matrix X following a laplace distribution\")\n",
    "plt.xlabel(\"Indexes\")\n",
    "_ = plt.ylabel(\"Singular values\")"
   ]
  },
  {
   "cell_type": "markdown",
   "id": "3066a6f2",
   "metadata": {},
   "source": [
    "Note: We note that the singular values across all three distributions are similar as the distributions follow the same mean and variance."
   ]
  },
  {
   "cell_type": "markdown",
   "id": "197121f5",
   "metadata": {},
   "source": [
    "10) Display on one single graph the spectrum (i.e. the set of eigenvalues) of (X.T @ X) / n for n = 1000, and p = 200, 500, 1000, 2000. Comment."
   ]
  },
  {
   "cell_type": "code",
   "execution_count": 14,
   "id": "4a68031c",
   "metadata": {},
   "outputs": [],
   "source": [
    "X_uniform, X_logistic, X_laplace = [],[],[]\n",
    "XT_uniform, XT_logistic, XT_laplace = [],[],[]\n",
    "\n",
    "for i in range(4):\n",
    "    # generate matrices with matrix_generator function\n",
    "    X_uniform.append(matrix_generator(n, p_range[i], \"uniform\" ))\n",
    "    X_logistic.append(matrix_generator(n, p_range[i], \"logistic\" ))\n",
    "    X_laplace.append(matrix_generator(n, p_range[i], \"laplace\" ))\n",
    "    \n",
    "    # calculate eigenvalues of X.T@X/n and sort in descending order\n",
    "    XT_uniform.append(np.sort(\n",
    "        np.linalg.eigvals(X_uniform[i].T @ X_uniform[i] / n))[::-1]\n",
    "    )\n",
    "    XT_logistic.append(np.sort(\n",
    "        np.linalg.eigvals(X_logistic[i].T @ X_logistic[i] / n))[::-1]\n",
    "    )\n",
    "    XT_laplace.append(np.sort(\n",
    "        np.linalg.eigvals(X_laplace[i].T @ X_laplace[i] / n))[::-1]\n",
    "    )"
   ]
  },
  {
   "cell_type": "code",
   "execution_count": 15,
   "id": "b1f17e07",
   "metadata": {},
   "outputs": [
    {
     "name": "stderr",
     "output_type": "stream",
     "text": [
      "/Users/tobiastolciu/opt/anaconda3/lib/python3.9/site-packages/matplotlib/cbook/__init__.py:1298: ComplexWarning: Casting complex values to real discards the imaginary part\n",
      "  return np.asarray(x, float)\n",
      "/Users/tobiastolciu/opt/anaconda3/lib/python3.9/site-packages/matplotlib/cbook/__init__.py:1298: ComplexWarning: Casting complex values to real discards the imaginary part\n",
      "  return np.asarray(x, float)\n",
      "/Users/tobiastolciu/opt/anaconda3/lib/python3.9/site-packages/matplotlib/cbook/__init__.py:1298: ComplexWarning: Casting complex values to real discards the imaginary part\n",
      "  return np.asarray(x, float)\n"
     ]
    },
    {
     "data": {
      "image/png": "[encoded data removed]",
      "text/plain": [
       "<Figure size 432x288 with 1 Axes>"
      ]
     },
     "metadata": {
      "needs_background": "light"
     },
     "output_type": "display_data"
    },
    {
     "data": {
      "image/png": "[encoded data removed]",
      "text/plain": [
       "<Figure size 432x288 with 1 Axes>"
      ]
     },
     "metadata": {
      "needs_background": "light"
     },
     "output_type": "display_data"
    },
    {
     "data": {
      "image/png": "[encoded data removed]",
      "text/plain": [
       "<Figure size 432x288 with 1 Axes>"
      ]
     },
     "metadata": {
      "needs_background": "light"
     },
     "output_type": "display_data"
    }
   ],
   "source": [
    "# Plot eigenvalues of X.T@X/n\n",
    "\n",
    "# Uniform\n",
    "plt.figure()\n",
    "for i in range(4):\n",
    "    plt.plot(XT_uniform[i], label=('p = ' + str(p_range[i])))\n",
    "plt.legend()\n",
    "plt.title(\"Spectrum of X.T@X /n for Uniform distribution\")\n",
    "plt.xlabel(\"Indexes\")\n",
    "plt.ylabel(\"Eigenvalues\")\n",
    "\n",
    "# Logistic\n",
    "plt.figure()\n",
    "for i in range(4):\n",
    "    plt.plot(XT_logistic[i], label=('p = ' + str(p_range[i])))\n",
    "plt.legend()\n",
    "plt.title(\"Spectrum of X.T@X /n for Logistic distribution\")\n",
    "plt.xlabel(\"Indexes\")\n",
    "plt.ylabel(\"Eigenvalues\")\n",
    "\n",
    "# Laplace\n",
    "plt.figure()\n",
    "for i in range(4):\n",
    "    plt.plot(XT_laplace[i], label=('p = ' + str(p_range[i])))\n",
    "plt.legend()\n",
    "plt.title(\"Spectrum of X.T@X /n for Laplace distribution\")\n",
    "plt.xlabel(\"Indexes\")\n",
    "_= plt.ylabel(\"Eigenvalues\")"
   ]
  },
  {
   "cell_type": "markdown",
   "id": "b203a9d2",
   "metadata": {},
   "source": [
    "Note: Similarly to above, we note that the eigenvalues across all three distributions are similar as the distributions follow the same mean and variance."
   ]
  },
  {
   "cell_type": "markdown",
   "id": "cd640cd2",
   "metadata": {},
   "source": [
    "## 4. Power method"
   ]
  },
  {
   "cell_type": "markdown",
   "id": "b68e40ab",
   "metadata": {},
   "source": [
    "11) Write a function coding Algorithm 1."
   ]
  },
  {
   "cell_type": "markdown",
   "id": "2390e404",
   "metadata": {},
   "source": [
    "Function that perform the above-mentioned algorithm\n",
    "input: X - matrix, T - maximum number of iterations,\n",
    "p - number of rows of vector v\n",
    "<br> output: uk - vector u after T iterations\n",
    "<br> vk - vector v after T iterations"
   ]
  },
  {
   "cell_type": "code",
   "execution_count": 17,
   "id": "c68d39bc",
   "metadata": {},
   "outputs": [],
   "source": [
    "def power_function(X, T, p):\n",
    "    vk = np.random.rand(p, 1) # initial guess for the eigenvector\n",
    "    \n",
    "    for k in range(1, T+1):\n",
    "        uk = np.matmul(X, vk) / np.linalg.norm(np.matmul(X, vk))\n",
    "        vk = np.matmul(X.T, uk) / np.linalg.norm(np.matmul(X.T, uk))\n",
    "        \n",
    "    return uk, vk"
   ]
  },
  {
   "cell_type": "markdown",
   "id": "05aef0fb",
   "metadata": {},
   "source": [
    "12) Modify the implementation of the algorithm to store all iterates of u and v. Let u* (resp. v*) be the leading left (resp. right) singular vector of X. Compute them using np.linalg.svd. Plot the norm of uk - u* as a function of k. Is it true that the output u, v from the algorithm converge to u*,v*? Run your code several times. Bonus: Can you show it mathematically?"
   ]
  },
  {
   "cell_type": "markdown",
   "id": "a85e7f16",
   "metadata": {},
   "source": [
    "Function that performs the above-mentioned algorithm\n",
    "<br> input: X - matrix, T - maximum number of iterations,\n",
    "p - number of rows of vector v\n",
    "const_lambda - constant number \n",
    "<br> output: u - list containing all vectors u after each iterations\n",
    "v - list containing all vectors u after each iterations"
   ]
  },
  {
   "cell_type": "code",
   "execution_count": 18,
   "id": "2728ee98",
   "metadata": {},
   "outputs": [],
   "source": [
    "def power_function_store(X, T, p):\n",
    "    v = [] # empty list to store all vecors v\n",
    "    u = [] # empty list to store all vecors u\n",
    "    v.append(np.random.rand(p, 1))\n",
    "\n",
    "    for k in range(1,T+1):\n",
    "        u.append(np.matmul(X, v[k-1]) / np.linalg.norm(np.matmul(X, v[k-1])))\n",
    "        v.append(np.matmul(X.T, u[k-1]) / np.linalg.norm(np.matmul(X.T, u[k-1])))\n",
    "        \n",
    "    return u, v "
   ]
  },
  {
   "cell_type": "code",
   "execution_count": 19,
   "id": "fbbcca16",
   "metadata": {
    "scrolled": true
   },
   "outputs": [
    {
     "data": {
      "image/png": "[encoded data removed]",
      "text/plain": [
       "<Figure size 432x288 with 1 Axes>"
      ]
     },
     "metadata": {
      "needs_background": "light"
     },
     "output_type": "display_data"
    }
   ],
   "source": [
    "# define variables\n",
    "n = 100\n",
    "p = 2_000\n",
    "T = 5\n",
    "\n",
    "# generate matrix\n",
    "X = np.random.normal(0, np.sqrt(5), (n, p))\n",
    "\n",
    "# conduct singular value decomposition\n",
    "u, s, vh = np.linalg.svd(X)\n",
    "\n",
    "# define leading left and right singular vectors\n",
    "u_leading = u[:, 0]\n",
    "vh_leading = vh[0, :]\n",
    "\n",
    "u, v = power_function_store(X, T, p)\n",
    "\n",
    "# plot norm of u[k] - u for all k\n",
    "for k in range(0, T, 1):\n",
    "    plt.scatter(k+1, np.linalg.norm(u[k] - u_leading))"
   ]
  },
  {
   "cell_type": "markdown",
   "id": "61080b4f",
   "metadata": {},
   "source": [
    "We can cleary see that the Values of u[k] converge towards u[T-1]. This was to be \n",
    "expected since the power method does iteratively approximate the largest eigenvalue\n",
    "of X. Thus, the value of u does get closer (converges) to the largest eigenvalue of X.\n",
    "When taking a closer look to the power method this can be proven mathimatically. We are working with an (n x p) matrix X which is diagonizable. Thus, the matrix has p linearly independent eigenvectors denoted as ($x_1, ..., x_p$) with corresponding eigenvalues ($\\lambda_1,..., \\lambda_p$). We assume that the eigenvalues are sorted such that $\\lambda_1$ is the largest eigenvalue of X and $x_1$ is the corresponding eigenvector. The power\n",
    "method starts with guessing a random vector which is hoped to be as close to the eigenvector that\n",
    "corresponds to the largest eigenvalue as possible. We can write the vector $v_0$ as a linear combination\n",
    "$v_0 = c_1x_1 + c_2x_2 + ... + c_px_p$ (1) as the eigenvectors of X create a span $\\mathbb{R}^{nxp}$. If it turns out that $c_1=0$ another vector $v_0$ has to be choosen. Once v has been determined, the vector\n",
    "will be iteratively multiplied with the matrix X and this matrix multiplication is divided by its norm \n",
    "(normalization): \n",
    "$\\\\ v_1 = \\frac{X v_{0}}{\\lVert X v_{0} \\rVert}$ The iterative approach to repeat this computation k times leads us to: \n",
    "$\\\\ v_k = \\frac{X v_{k-1}}{\\lVert X v_{k-1} \\rVert} = \\frac{X X v_{k-2}}{\\lVert X X v_{k-2} \\rVert} = \\space ... \\space = \\frac{X^k v_0}{\\lVert X^k v_0 \\rVert}$ \n",
    "Under consideration (1) we can write: \n",
    "$\\\\ v_k = \\frac{X^k v_{0}}{\\lVert X^k v_0 \\rVert} = \\frac{X^k (c_1x_1 + c_2x_2 + ... + c_px_p}{\\lVert X^k (c_1x_1 + c_2x_2 + ... + c_px_p) \\rVert} = \\frac{c_1X^kx_1 + c_2X^kx_2 + ... + c_pX^kx_p}{\\lVert c_1X^kx_1 + c_2X^kx_2 + ... + c_pX^kx_p \\rVert}$ Using e.g., $Xx_1 = \\lambda_1x_1$ we can rewrite $X^kx_i = {\\lambda_i}^kx_i \\forall i \\in p$: \n",
    "\n",
    "$ v_k =  \\frac{c_1{\\lambda_1}^kx_1 + c_2{\\lambda_2}^kx_2 + ... + c_p{\\lambda_p}^kx_p}{\\lVert {\\lambda_1}^kx_1 + c_2{\\lambda_2}^kx_2 + ... + c_p{\\lambda_p}^kx_p) \\rVert} = \\frac{\\lambda_1^k}{\\lvert \\lambda_1^k \\rvert} \\frac{c_1x_1 + c_2(\\frac{\\lambda_2}{\\lambda_1})^kx_2 + ... + c_p(\\frac{\\lambda_p}{\\lambda_1})^kx_p}{\\lVert c_1x_1 + c_2(\\frac{\\lambda_2}{\\lambda_1})^kx_2 + ... + c_p(\\frac{\\lambda_p}{\\lambda_1})^kx_p \\rVert} \\\\$\n",
    "For $ k \\rightarrow \\infty$ and especially for $\\lambda_1 >> \\lambda_2,...$ this simplifies to: $ v_k = \\frac{\\lambda_1^k}{\\lvert \\lambda_1^k \\rvert} \\frac{c_1x_1}{\\lVert c_1x_1 \\rVert} = \\frac{x_1}{\\lVert x_1 \\rVert}$"
   ]
  },
  {
   "cell_type": "markdown",
   "id": "22f86c91",
   "metadata": {},
   "source": [
    "13) Provide two initialization vectors $v_0$ leading to different limits for this algorithm; explain how they are related."
   ]
  },
  {
   "cell_type": "markdown",
   "id": "5b73ef46",
   "metadata": {},
   "source": [
    "call power_function_store with the same vector X that \n",
    "will lead to two different vectors v0 as the function\n",
    "randomly generates a new vector for every function call"
   ]
  },
  {
   "cell_type": "code",
   "execution_count": 21,
   "id": "395ca8f6",
   "metadata": {},
   "outputs": [
    {
     "data": {
      "image/png": "[encoded data removed]",
      "text/plain": [
       "<Figure size 432x288 with 1 Axes>"
      ]
     },
     "metadata": {
      "needs_background": "light"
     },
     "output_type": "display_data"
    },
    {
     "data": {
      "image/png": "[encoded data removed]",
      "text/plain": [
       "<Figure size 432x288 with 1 Axes>"
      ]
     },
     "metadata": {
      "needs_background": "light"
     },
     "output_type": "display_data"
    }
   ],
   "source": [
    "u1, v1 = power_function_store(X, T, p)\n",
    "for k in range(0, T, 1):\n",
    "    plt.scatter(k+1, np.linalg.norm(u1[k] - u_leading))\n",
    "    # plot u_k for every k for first v0\n",
    "plt.show()\n",
    "u2, v2 = power_function_store(X, T, p)\n",
    "for k in range(0, T, 1):\n",
    "    plt.scatter(k+1, np.linalg.norm(u2[k] - u_leading))\n",
    "    # plot u_k for every k for first v0"
   ]
  },
  {
   "cell_type": "markdown",
   "id": "c350fb24",
   "metadata": {},
   "source": [
    "Calling the power method with two different \"starting\" vectors $v_0$ will a.s. lead to the same result in the long term as has been proven earlier. However, the speed of convergence clearly depends on the degree of difference between $v_0$ and the eigenvector $x_1$ of the largest eigenvalue $\\lambda_1$. If $v_0$ is very close to $x_1$ the algorithm will converge really quickly, while vice versa for very differet vectors the algorithm will take lots of iteration to converge. Thus, the different values to which the two function calls seem to converge are explainable due to the relative small number of iterations (T=5). "
   ]
  },
  {
   "cell_type": "markdown",
   "id": "00938491",
   "metadata": {},
   "source": [
    "14) Provide a way to approximate the largest singular value of X using the power method."
   ]
  },
  {
   "cell_type": "markdown",
   "id": "a0687aef",
   "metadata": {},
   "source": [
    "The largest singular value of a matrix is, per definition, equal to the spectral norm of the matrix. As discussed before, the power method can approximately determine the largest eigenvector of a matrix X. Hence, computing the eigenvector of the largest eigenvalue of $X$ using the power method and applying (1) allows us to determine the largest singular value of X."
   ]
  },
  {
   "cell_type": "code",
   "execution_count": 22,
   "id": "2205e566",
   "metadata": {
    "scrolled": true
   },
   "outputs": [
    {
     "name": "stdout",
     "output_type": "stream",
     "text": [
      "123.30643051121064 123.30643051121064\n"
     ]
    }
   ],
   "source": [
    "X_max = np.linalg.norm(X @ power_function(X, 1000, p)[1])\n",
    "# run power_function with larger amount of iterations to ensure convergence\n",
    "# compute spectral norm of X using eigenvector\n",
    "X_max_real = np.linalg.svd(X)[1][0]\n",
    "# compute largest singular value of X to check result\n",
    "print(X_max, X_max_real)"
   ]
  },
  {
   "cell_type": "markdown",
   "id": "87165862",
   "metadata": {},
   "source": [
    "15) Build upon the power method to provide an algorithm that can approximate the second largest\n",
    "singular value of X (without using an SVD function)."
   ]
  },
  {
   "cell_type": "markdown",
   "id": "d088bd03",
   "metadata": {},
   "source": [
    "The second largest singular value of X can be approximated by computing X_max2 = $ \\lVert Y v_{Y_1} \\rVert $. $v_{Y_1}$ is the output of the power method applied to matrix Y. Y is the difference between $X$ and $Xmax*u*v^T$ where X_max is the previous result for the largest singular value of X, u is the result of the power method for X and v ist the result of the power method for $X^T$."
   ]
  },
  {
   "cell_type": "code",
   "execution_count": 23,
   "id": "d46f9d94",
   "metadata": {},
   "outputs": [
    {
     "name": "stdout",
     "output_type": "stream",
     "text": [
      "120.1810818577281 120.1810818577282\n"
     ]
    }
   ],
   "source": [
    "Y = (X - X_max * power_function(X, 1000, p)[0].reshape(n, 1)\n",
    "     @ power_function(X, 1000, p)[1].reshape(p,1).T) \n",
    "# determin Y (use reshape to allow allow multiplication)\n",
    "X_max2 = np.linalg.norm(Y @ power_function(Y, 1000, p)[1])\n",
    "# compute second largest singular value of X with power method\n",
    "X_max2_real = np.linalg.svd(X)[1][1]\n",
    "# compute second largest singular value of X with built-in method\n",
    "print(X_max2, X_max2_real)"
   ]
  },
  {
   "cell_type": "markdown",
   "id": "d795c2c8",
   "metadata": {},
   "source": [
    "## 5. Analysis of the auto-mpg dataset"
   ]
  },
  {
   "cell_type": "markdown",
   "id": "0081234b",
   "metadata": {},
   "source": [
    "16) Import the dataset from https://archive.ics.uci.edu/ml/machine-learning-databases/ auto-mpg/auto-mpg.data-original with Pandas. Add columns name using the name parameter of read_csv and consulting: https://archive.ics.uci.edu/ml/machine-learning-databases/ auto-mpg/auto-mpg.names. You can check the impact of using sep=r\"\\s+\". Is there a marker for missing values in this dataset? If needed, remove the corresponding lines. The last column, car name, is not useful for our study: drop it."
   ]
  },
  {
   "cell_type": "code",
   "execution_count": 24,
   "id": "66c01758",
   "metadata": {},
   "outputs": [
    {
     "data": {
      "text/html": [
       "<div>\n",
       "<style scoped>\n",
       "    .dataframe tbody tr th:only-of-type {\n",
       "        vertical-align: middle;\n",
       "    }\n",
       "\n",
       "    .dataframe tbody tr th {\n",
       "        vertical-align: top;\n",
       "    }\n",
       "\n",
       "    .dataframe thead th {\n",
       "        text-align: right;\n",
       "    }\n",
       "</style>\n",
       "<table border=\"1\" class=\"dataframe\">\n",
       "  <thead>\n",
       "    <tr style=\"text-align: right;\">\n",
       "      <th></th>\n",
       "      <th>mpg</th>\n",
       "      <th>cylinders</th>\n",
       "      <th>displacement</th>\n",
       "      <th>horsepower</th>\n",
       "      <th>weight</th>\n",
       "      <th>acceleration</th>\n",
       "      <th>model_year</th>\n",
       "      <th>origin</th>\n",
       "    </tr>\n",
       "  </thead>\n",
       "  <tbody>\n",
       "    <tr>\n",
       "      <th>0</th>\n",
       "      <td>18.0</td>\n",
       "      <td>8.0</td>\n",
       "      <td>307.0</td>\n",
       "      <td>130.0</td>\n",
       "      <td>3504.0</td>\n",
       "      <td>12.0</td>\n",
       "      <td>70.0</td>\n",
       "      <td>1.0</td>\n",
       "    </tr>\n",
       "    <tr>\n",
       "      <th>1</th>\n",
       "      <td>15.0</td>\n",
       "      <td>8.0</td>\n",
       "      <td>350.0</td>\n",
       "      <td>165.0</td>\n",
       "      <td>3693.0</td>\n",
       "      <td>11.5</td>\n",
       "      <td>70.0</td>\n",
       "      <td>1.0</td>\n",
       "    </tr>\n",
       "    <tr>\n",
       "      <th>2</th>\n",
       "      <td>18.0</td>\n",
       "      <td>8.0</td>\n",
       "      <td>318.0</td>\n",
       "      <td>150.0</td>\n",
       "      <td>3436.0</td>\n",
       "      <td>11.0</td>\n",
       "      <td>70.0</td>\n",
       "      <td>1.0</td>\n",
       "    </tr>\n",
       "    <tr>\n",
       "      <th>3</th>\n",
       "      <td>16.0</td>\n",
       "      <td>8.0</td>\n",
       "      <td>304.0</td>\n",
       "      <td>150.0</td>\n",
       "      <td>3433.0</td>\n",
       "      <td>12.0</td>\n",
       "      <td>70.0</td>\n",
       "      <td>1.0</td>\n",
       "    </tr>\n",
       "    <tr>\n",
       "      <th>4</th>\n",
       "      <td>17.0</td>\n",
       "      <td>8.0</td>\n",
       "      <td>302.0</td>\n",
       "      <td>140.0</td>\n",
       "      <td>3449.0</td>\n",
       "      <td>10.5</td>\n",
       "      <td>70.0</td>\n",
       "      <td>1.0</td>\n",
       "    </tr>\n",
       "  </tbody>\n",
       "</table>\n",
       "</div>"
      ],
      "text/plain": [
       "    mpg  cylinders  displacement  horsepower  weight  acceleration  \\\n",
       "0  18.0        8.0         307.0       130.0  3504.0          12.0   \n",
       "1  15.0        8.0         350.0       165.0  3693.0          11.5   \n",
       "2  18.0        8.0         318.0       150.0  3436.0          11.0   \n",
       "3  16.0        8.0         304.0       150.0  3433.0          12.0   \n",
       "4  17.0        8.0         302.0       140.0  3449.0          10.5   \n",
       "\n",
       "   model_year  origin  \n",
       "0        70.0     1.0  \n",
       "1        70.0     1.0  \n",
       "2        70.0     1.0  \n",
       "3        70.0     1.0  \n",
       "4        70.0     1.0  "
      ]
     },
     "execution_count": 24,
     "metadata": {},
     "output_type": "execute_result"
    }
   ],
   "source": [
    "# define URL and column names\n",
    "url_auto = 'https://archive.ics.uci.edu/ml/machine-learning-databases/auto-mpg/auto-mpg.data-original' \n",
    "auto_names = ['mpg', 'cylinders', 'displacement', \n",
    "              'horsepower', 'weight', 'acceleration',\n",
    "              'model_year', 'origin', 'car_name']\n",
    "\n",
    "# create and clean dataset\n",
    "df_auto = pd.read_csv(url_auto, delim_whitespace=True, \n",
    "                      header=None, names=auto_names\n",
    "                     )\n",
    "df_auto.dropna(inplace=True)\n",
    "df_auto.reset_index(inplace=True) # reset index after dropping values\n",
    "df_auto.drop(['car_name', 'index'], inplace=True, axis=1)\n",
    "df_auto.head()"
   ]
  },
  {
   "cell_type": "markdown",
   "id": "941604a3",
   "metadata": {},
   "source": [
    "17) Add two or three binary features to meaningfully encode the three origins ('origin' feature, for which, initially, 1 stands for USA, 2 for Europe and 3 for Japan)."
   ]
  },
  {
   "cell_type": "code",
   "execution_count": 25,
   "id": "ec7ef022",
   "metadata": {},
   "outputs": [
    {
     "data": {
      "text/html": [
       "<div>\n",
       "<style scoped>\n",
       "    .dataframe tbody tr th:only-of-type {\n",
       "        vertical-align: middle;\n",
       "    }\n",
       "\n",
       "    .dataframe tbody tr th {\n",
       "        vertical-align: top;\n",
       "    }\n",
       "\n",
       "    .dataframe thead th {\n",
       "        text-align: right;\n",
       "    }\n",
       "</style>\n",
       "<table border=\"1\" class=\"dataframe\">\n",
       "  <thead>\n",
       "    <tr style=\"text-align: right;\">\n",
       "      <th></th>\n",
       "      <th>mpg</th>\n",
       "      <th>cylinders</th>\n",
       "      <th>displacement</th>\n",
       "      <th>horsepower</th>\n",
       "      <th>weight</th>\n",
       "      <th>acceleration</th>\n",
       "      <th>model_year</th>\n",
       "      <th>USA</th>\n",
       "      <th>Europe</th>\n",
       "      <th>Japan</th>\n",
       "    </tr>\n",
       "  </thead>\n",
       "  <tbody>\n",
       "    <tr>\n",
       "      <th>0</th>\n",
       "      <td>18.0</td>\n",
       "      <td>8.0</td>\n",
       "      <td>307.0</td>\n",
       "      <td>130.0</td>\n",
       "      <td>3504.0</td>\n",
       "      <td>12.0</td>\n",
       "      <td>70.0</td>\n",
       "      <td>1</td>\n",
       "      <td>0</td>\n",
       "      <td>0</td>\n",
       "    </tr>\n",
       "    <tr>\n",
       "      <th>1</th>\n",
       "      <td>15.0</td>\n",
       "      <td>8.0</td>\n",
       "      <td>350.0</td>\n",
       "      <td>165.0</td>\n",
       "      <td>3693.0</td>\n",
       "      <td>11.5</td>\n",
       "      <td>70.0</td>\n",
       "      <td>1</td>\n",
       "      <td>0</td>\n",
       "      <td>0</td>\n",
       "    </tr>\n",
       "    <tr>\n",
       "      <th>2</th>\n",
       "      <td>18.0</td>\n",
       "      <td>8.0</td>\n",
       "      <td>318.0</td>\n",
       "      <td>150.0</td>\n",
       "      <td>3436.0</td>\n",
       "      <td>11.0</td>\n",
       "      <td>70.0</td>\n",
       "      <td>1</td>\n",
       "      <td>0</td>\n",
       "      <td>0</td>\n",
       "    </tr>\n",
       "    <tr>\n",
       "      <th>3</th>\n",
       "      <td>16.0</td>\n",
       "      <td>8.0</td>\n",
       "      <td>304.0</td>\n",
       "      <td>150.0</td>\n",
       "      <td>3433.0</td>\n",
       "      <td>12.0</td>\n",
       "      <td>70.0</td>\n",
       "      <td>1</td>\n",
       "      <td>0</td>\n",
       "      <td>0</td>\n",
       "    </tr>\n",
       "    <tr>\n",
       "      <th>4</th>\n",
       "      <td>17.0</td>\n",
       "      <td>8.0</td>\n",
       "      <td>302.0</td>\n",
       "      <td>140.0</td>\n",
       "      <td>3449.0</td>\n",
       "      <td>10.5</td>\n",
       "      <td>70.0</td>\n",
       "      <td>1</td>\n",
       "      <td>0</td>\n",
       "      <td>0</td>\n",
       "    </tr>\n",
       "  </tbody>\n",
       "</table>\n",
       "</div>"
      ],
      "text/plain": [
       "    mpg  cylinders  displacement  horsepower  weight  acceleration  \\\n",
       "0  18.0        8.0         307.0       130.0  3504.0          12.0   \n",
       "1  15.0        8.0         350.0       165.0  3693.0          11.5   \n",
       "2  18.0        8.0         318.0       150.0  3436.0          11.0   \n",
       "3  16.0        8.0         304.0       150.0  3433.0          12.0   \n",
       "4  17.0        8.0         302.0       140.0  3449.0          10.5   \n",
       "\n",
       "   model_year  USA  Europe  Japan  \n",
       "0        70.0    1       0      0  \n",
       "1        70.0    1       0      0  \n",
       "2        70.0    1       0      0  \n",
       "3        70.0    1       0      0  \n",
       "4        70.0    1       0      0  "
      ]
     },
     "execution_count": 25,
     "metadata": {},
     "output_type": "execute_result"
    }
   ],
   "source": [
    "# insert new column for each geography that is set to 1\n",
    "# if \"origin\" contains the corresponding value\n",
    "df_auto['USA'] = np.where((df_auto['origin'] == 1.0), 1, 0)\n",
    "df_auto['Europe'] = np.where((df_auto['origin'] == 2.0), 1, 0)\n",
    "df_auto['Japan'] = np.where((df_auto['origin'] == 3.0), 1, 0)\n",
    "\n",
    "df_auto.drop(['origin'], inplace=True, axis=1)\n",
    "df_auto.head()"
   ]
  },
  {
   "cell_type": "markdown",
   "id": "31aebef5",
   "metadata": {},
   "source": [
    "18) Select (manually) 9 rows of the dataset such that all 3 origins are represented, and model year is not constant. Get the least-squares estimator θˆ (with intercept) and the prediction vector yˆ, considering only these 9 lines. What do you observe? Why?"
   ]
  },
  {
   "cell_type": "code",
   "execution_count": 26,
   "id": "2ea28337",
   "metadata": {
    "scrolled": true
   },
   "outputs": [
    {
     "data": {
      "text/html": [
       "<div>\n",
       "<style scoped>\n",
       "    .dataframe tbody tr th:only-of-type {\n",
       "        vertical-align: middle;\n",
       "    }\n",
       "\n",
       "    .dataframe tbody tr th {\n",
       "        vertical-align: top;\n",
       "    }\n",
       "\n",
       "    .dataframe thead th {\n",
       "        text-align: right;\n",
       "    }\n",
       "</style>\n",
       "<table border=\"1\" class=\"dataframe\">\n",
       "  <thead>\n",
       "    <tr style=\"text-align: right;\">\n",
       "      <th></th>\n",
       "      <th>mpg</th>\n",
       "      <th>cylinders</th>\n",
       "      <th>displacement</th>\n",
       "      <th>horsepower</th>\n",
       "      <th>weight</th>\n",
       "      <th>acceleration</th>\n",
       "      <th>model_year</th>\n",
       "      <th>USA</th>\n",
       "      <th>Europe</th>\n",
       "      <th>Japan</th>\n",
       "    </tr>\n",
       "  </thead>\n",
       "  <tbody>\n",
       "    <tr>\n",
       "      <th>0</th>\n",
       "      <td>18.0</td>\n",
       "      <td>8.0</td>\n",
       "      <td>307.0</td>\n",
       "      <td>130.0</td>\n",
       "      <td>3504.0</td>\n",
       "      <td>12.0</td>\n",
       "      <td>70.0</td>\n",
       "      <td>1</td>\n",
       "      <td>0</td>\n",
       "      <td>0</td>\n",
       "    </tr>\n",
       "    <tr>\n",
       "      <th>1</th>\n",
       "      <td>15.0</td>\n",
       "      <td>8.0</td>\n",
       "      <td>350.0</td>\n",
       "      <td>165.0</td>\n",
       "      <td>3693.0</td>\n",
       "      <td>11.5</td>\n",
       "      <td>70.0</td>\n",
       "      <td>1</td>\n",
       "      <td>0</td>\n",
       "      <td>0</td>\n",
       "    </tr>\n",
       "    <tr>\n",
       "      <th>2</th>\n",
       "      <td>18.0</td>\n",
       "      <td>8.0</td>\n",
       "      <td>318.0</td>\n",
       "      <td>150.0</td>\n",
       "      <td>3436.0</td>\n",
       "      <td>11.0</td>\n",
       "      <td>70.0</td>\n",
       "      <td>1</td>\n",
       "      <td>0</td>\n",
       "      <td>0</td>\n",
       "    </tr>\n",
       "    <tr>\n",
       "      <th>14</th>\n",
       "      <td>24.0</td>\n",
       "      <td>4.0</td>\n",
       "      <td>113.0</td>\n",
       "      <td>95.0</td>\n",
       "      <td>2372.0</td>\n",
       "      <td>15.0</td>\n",
       "      <td>70.0</td>\n",
       "      <td>0</td>\n",
       "      <td>0</td>\n",
       "      <td>1</td>\n",
       "    </tr>\n",
       "    <tr>\n",
       "      <th>19</th>\n",
       "      <td>26.0</td>\n",
       "      <td>4.0</td>\n",
       "      <td>97.0</td>\n",
       "      <td>46.0</td>\n",
       "      <td>1835.0</td>\n",
       "      <td>20.5</td>\n",
       "      <td>70.0</td>\n",
       "      <td>0</td>\n",
       "      <td>1</td>\n",
       "      <td>0</td>\n",
       "    </tr>\n",
       "    <tr>\n",
       "      <th>20</th>\n",
       "      <td>25.0</td>\n",
       "      <td>4.0</td>\n",
       "      <td>110.0</td>\n",
       "      <td>87.0</td>\n",
       "      <td>2672.0</td>\n",
       "      <td>17.5</td>\n",
       "      <td>70.0</td>\n",
       "      <td>0</td>\n",
       "      <td>1</td>\n",
       "      <td>0</td>\n",
       "    </tr>\n",
       "    <tr>\n",
       "      <th>29</th>\n",
       "      <td>27.0</td>\n",
       "      <td>4.0</td>\n",
       "      <td>97.0</td>\n",
       "      <td>88.0</td>\n",
       "      <td>2130.0</td>\n",
       "      <td>14.5</td>\n",
       "      <td>71.0</td>\n",
       "      <td>0</td>\n",
       "      <td>0</td>\n",
       "      <td>1</td>\n",
       "    </tr>\n",
       "    <tr>\n",
       "      <th>31</th>\n",
       "      <td>25.0</td>\n",
       "      <td>4.0</td>\n",
       "      <td>113.0</td>\n",
       "      <td>95.0</td>\n",
       "      <td>2228.0</td>\n",
       "      <td>14.0</td>\n",
       "      <td>71.0</td>\n",
       "      <td>0</td>\n",
       "      <td>0</td>\n",
       "      <td>1</td>\n",
       "    </tr>\n",
       "    <tr>\n",
       "      <th>49</th>\n",
       "      <td>28.0</td>\n",
       "      <td>4.0</td>\n",
       "      <td>116.0</td>\n",
       "      <td>90.0</td>\n",
       "      <td>2123.0</td>\n",
       "      <td>14.0</td>\n",
       "      <td>71.0</td>\n",
       "      <td>0</td>\n",
       "      <td>1</td>\n",
       "      <td>0</td>\n",
       "    </tr>\n",
       "  </tbody>\n",
       "</table>\n",
       "</div>"
      ],
      "text/plain": [
       "     mpg  cylinders  displacement  horsepower  weight  acceleration  \\\n",
       "0   18.0        8.0         307.0       130.0  3504.0          12.0   \n",
       "1   15.0        8.0         350.0       165.0  3693.0          11.5   \n",
       "2   18.0        8.0         318.0       150.0  3436.0          11.0   \n",
       "14  24.0        4.0         113.0        95.0  2372.0          15.0   \n",
       "19  26.0        4.0          97.0        46.0  1835.0          20.5   \n",
       "20  25.0        4.0         110.0        87.0  2672.0          17.5   \n",
       "29  27.0        4.0          97.0        88.0  2130.0          14.5   \n",
       "31  25.0        4.0         113.0        95.0  2228.0          14.0   \n",
       "49  28.0        4.0         116.0        90.0  2123.0          14.0   \n",
       "\n",
       "    model_year  USA  Europe  Japan  \n",
       "0         70.0    1       0      0  \n",
       "1         70.0    1       0      0  \n",
       "2         70.0    1       0      0  \n",
       "14        70.0    0       0      1  \n",
       "19        70.0    0       1      0  \n",
       "20        70.0    0       1      0  \n",
       "29        71.0    0       0      1  \n",
       "31        71.0    0       0      1  \n",
       "49        71.0    0       1      0  "
      ]
     },
     "execution_count": 26,
     "metadata": {},
     "output_type": "execute_result"
    }
   ],
   "source": [
    "df_countries = df_auto.iloc[[0, 1, 2, 14, 19, 20, 29, 31, 49],:]\n",
    "df_countries"
   ]
  },
  {
   "cell_type": "code",
   "execution_count": 27,
   "id": "11b73378",
   "metadata": {
    "scrolled": true
   },
   "outputs": [
    {
     "name": "stdout",
     "output_type": "stream",
     "text": [
      "[ 2.78014493 -0.09665737  0.04181362 -0.00279055 -0.30328632  0.7260227\n",
      "  0.69503623  1.03992361 -1.73495984]\n",
      "-18.168050154558795\n"
     ]
    },
    {
     "data": {
      "text/plain": [
       "array([17.93415871, 14.86559724, 18.20024405, 23.92068301, 26.02366918,\n",
       "       25.05564781, 26.7274853 , 25.35183169, 27.92068301])"
      ]
     },
     "execution_count": 27,
     "metadata": {},
     "output_type": "execute_result"
    }
   ],
   "source": [
    "# define x and y in dataset\n",
    "df_Xcountries = df_countries.drop(['mpg'], axis=1)\n",
    "df_Ycountries = df_countries['mpg']\n",
    "\n",
    "# fit linear regression model on x and y\n",
    "least_squares = LinearRegression().fit(df_Xcountries, df_Ycountries)\n",
    "\n",
    "print(least_squares.coef_)\n",
    "print(least_squares.intercept_)\n",
    "\n",
    "# calculate prediction vector\n",
    "mpg_estimate = least_squares.predict(df_Xcountries)\n",
    "mpg_estimate"
   ]
  },
  {
   "cell_type": "markdown",
   "id": "bffa7941",
   "metadata": {},
   "source": [
    "We observe that our predictions are very accurate, which is expected as we are using the same training data for prediction."
   ]
  },
  {
   "cell_type": "markdown",
   "id": "fa444e93",
   "metadata": {},
   "source": [
    "19) Now, get the least-squares estimator θˆ and the prediction vector yˆ (with intercept) over the whole dataset, after performing scaling/centering (the columns must have unit standard deviation and zero mean). Which variables seem to best explain gasoline consumption according to your model? Why wouldn’t this answer make sense if the columns were not normalized?"
   ]
  },
  {
   "cell_type": "code",
   "execution_count": 29,
   "id": "981dcc7f",
   "metadata": {
    "scrolled": true
   },
   "outputs": [
    {
     "name": "stdout",
     "output_type": "stream",
     "text": [
      "[-0.83533813  2.50922132 -0.69990262 -5.69981746  0.21823453  2.86236253\n",
      " -0.75249898  0.4085692   0.52249702]\n",
      "23.44591836734694\n"
     ]
    }
   ],
   "source": [
    "# define x and y in complete dataset\n",
    "df_Xauto = df_auto.drop(['mpg'], axis=1)\n",
    "df_Yauto = df_auto['mpg']\n",
    "\n",
    "# normalize columns of dataset\n",
    "autoX_norm = (df_Xauto - df_Xauto.mean()) / df_Xauto.std()\n",
    "\n",
    "# fit linear regression model on normalized data\n",
    "least_squares_all = LinearRegression().fit(autoX_norm, df_Yauto)\n",
    "\n",
    "print(least_squares_all.coef_)\n",
    "print(least_squares_all.intercept_)\n",
    "\n",
    "# calculate prediction vector\n",
    "mpg_estimate_all = least_squares_all.predict(autoX_norm)"
   ]
  },
  {
   "cell_type": "markdown",
   "id": "508a0bc8",
   "metadata": {},
   "source": [
    "The variables that seem to best explain gasoline consumptions are the ones with the highest / lowest coefficients: weight, model year, and displacement. Normalizing columns makes the data comparable across columns, therefore the magnitude of the resulting coefficient can be weighted against each other. "
   ]
  },
  {
   "cell_type": "markdown",
   "id": "e4dca927",
   "metadata": {},
   "source": [
    "20) Assume you observe a new car with the following values features: (see exercise sheet). Can you predict its consumption in this model? Beware of the year encoding. \n",
    "\n",
    "Use a pipeline http://scikit-learn.org/stable/modules/generated/sklearn.pipeline. Pipeline.html for performing the rescaling and the least-squares step consecutively. Comment on the y predicted value for this car."
   ]
  },
  {
   "cell_type": "code",
   "execution_count": 30,
   "id": "5133ef54",
   "metadata": {},
   "outputs": [
    {
     "name": "stderr",
     "output_type": "stream",
     "text": [
      "/Users/tobiastolciu/opt/anaconda3/lib/python3.9/site-packages/sklearn/base.py:450: UserWarning: X does not have valid feature names, but StandardScaler was fitted with feature names\n",
      "  warnings.warn(\n"
     ]
    },
    {
     "data": {
      "text/plain": [
       "array([53.11965664])"
      ]
     },
     "execution_count": 30,
     "metadata": {},
     "output_type": "execute_result"
    }
   ],
   "source": [
    "# define new car features\n",
    "new_car = np.array([6., 225., 100., 3233., \n",
    "                    15.4, 117., 1., 0., 0.]).reshape(1, -1)\n",
    "# setting 1900 as the initialization year, the year 2017\n",
    "# corresponds to the value 117\n",
    "\n",
    "# define pipeline\n",
    "pipeline = Pipeline([('Scaling', StandardScaler()), ('Regression', LinearRegression())])\n",
    "\n",
    "# fit pipeline on training data\n",
    "pipeline.fit(df_Xauto, df_Yauto)\n",
    "\n",
    "# predict y on new car data\n",
    "pipeline.predict(new_car)"
   ]
  },
  {
   "cell_type": "markdown",
   "id": "33b98a55",
   "metadata": {},
   "source": [
    "We note that the predicted mpg value is significantly larger than prior predictions (by factor 2). This is due to the fact that model year is the second strongest predictor in our model, which has a strong impact on the new car prediction as the model year is significantly higher. However, this logic is in itself flawed, as a newer car model not neccessarily corresponds to higher consumption (the opposite might even be true). Hence, our current model is not ideally suited for this prediction."
   ]
  }
 ],
 "metadata": {
  "kernelspec": {
   "display_name": "Python 3 (ipykernel)",
   "language": "python",
   "name": "python3"
  },
  "language_info": {
   "codemirror_mode": {
    "name": "ipython",
    "version": 3
   },
   "file_extension": ".py",
   "mimetype": "text/x-python",
   "name": "python",
   "nbconvert_exporter": "python",
   "pygments_lexer": "ipython3",
   "version": "3.9.12"
  }
 },
 "nbformat": 4,
 "nbformat_minor": 5
}
